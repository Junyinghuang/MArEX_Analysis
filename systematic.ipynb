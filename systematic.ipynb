{
 "cells": [
  {
   "cell_type": "code",
   "execution_count": 1,
   "id": "6941200f",
   "metadata": {},
   "outputs": [],
   "source": [
    "import numpy as np\n",
    "import uproot\n",
    "from matplotlib import pyplot as plt\n",
    "import matplotlib as mpl\n",
    "import h5py\n",
    "from scipy import optimize\n",
    "from src.process_data import process_data\n",
    "from src.graph import graph\n",
    "from src.transmission import transmission\n",
    "from src.smear import smear\n",
    "from src.select_tof import select_tof_ptbc, select_tof_fimg\n",
    "from utils import search_asc, search_desc, xsec_to_ts, tof_to_energy, energy_to_tof, chi_sq"
   ]
  },
  {
   "cell_type": "code",
   "execution_count": 9,
   "id": "f6486690",
   "metadata": {},
   "outputs": [],
   "source": [
    "rf = uproot.open(\"data/RF.root\")"
   ]
  },
  {
   "cell_type": "code",
   "execution_count": 10,
   "id": "a26361a5",
   "metadata": {},
   "outputs": [],
   "source": [
    "rfnp = rf['histfluka;1'].to_numpy()"
   ]
  },
  {
   "cell_type": "code",
   "execution_count": 11,
   "id": "c63021df",
   "metadata": {},
   "outputs": [
    {
     "data": {
      "text/plain": [
       "(array([[0., 0., 0., ..., 0., 0., 0.],\n",
       "        [0., 0., 0., ..., 0., 0., 0.],\n",
       "        [0., 0., 0., ..., 0., 0., 0.],\n",
       "        ...,\n",
       "        [0., 0., 0., ..., 0., 0., 0.],\n",
       "        [0., 0., 0., ..., 0., 0., 0.],\n",
       "        [0., 0., 0., ..., 0., 0., 0.]]),\n",
       " array([1.00000000e-03, 1.02329299e-03, 1.04712855e-03, ...,\n",
       "        9.54992586e+08, 9.77237221e+08, 1.00000000e+09]),\n",
       " array([-200., -199., -198., -197., -196., -195., -194., -193., -192.,\n",
       "        -191., -190., -189., -188., -187., -186., -185., -184., -183.,\n",
       "        -182., -181., -180., -179., -178., -177., -176., -175., -174.,\n",
       "        -173., -172., -171., -170., -169., -168., -167., -166., -165.,\n",
       "        -164., -163., -162., -161., -160., -159., -158., -157., -156.,\n",
       "        -155., -154., -153., -152., -151., -150., -149., -148., -147.,\n",
       "        -146., -145., -144., -143., -142., -141., -140., -139., -138.,\n",
       "        -137., -136., -135., -134., -133., -132., -131., -130., -129.,\n",
       "        -128., -127., -126., -125., -124., -123., -122., -121., -120.,\n",
       "        -119., -118., -117., -116., -115., -114., -113., -112., -111.,\n",
       "        -110., -109., -108., -107., -106., -105., -104., -103., -102.,\n",
       "        -101., -100.,  -99.,  -98.,  -97.,  -96.,  -95.,  -94.,  -93.,\n",
       "         -92.,  -91.,  -90.,  -89.,  -88.,  -87.,  -86.,  -85.,  -84.,\n",
       "         -83.,  -82.,  -81.,  -80.,  -79.,  -78.,  -77.,  -76.,  -75.,\n",
       "         -74.,  -73.,  -72.,  -71.,  -70.,  -69.,  -68.,  -67.,  -66.,\n",
       "         -65.,  -64.,  -63.,  -62.,  -61.,  -60.,  -59.,  -58.,  -57.,\n",
       "         -56.,  -55.,  -54.,  -53.,  -52.,  -51.,  -50.,  -49.,  -48.,\n",
       "         -47.,  -46.,  -45.,  -44.,  -43.,  -42.,  -41.,  -40.,  -39.,\n",
       "         -38.,  -37.,  -36.,  -35.,  -34.,  -33.,  -32.,  -31.,  -30.,\n",
       "         -29.,  -28.,  -27.,  -26.,  -25.,  -24.,  -23.,  -22.,  -21.,\n",
       "         -20.,  -19.,  -18.,  -17.,  -16.,  -15.,  -14.,  -13.,  -12.,\n",
       "         -11.,  -10.,   -9.,   -8.,   -7.,   -6.,   -5.,   -4.,   -3.,\n",
       "          -2.,   -1.,    0.,    1.,    2.,    3.,    4.,    5.,    6.,\n",
       "           7.,    8.,    9.,   10.,   11.,   12.,   13.,   14.,   15.,\n",
       "          16.,   17.,   18.,   19.,   20.,   21.,   22.,   23.,   24.,\n",
       "          25.,   26.,   27.,   28.,   29.,   30.,   31.,   32.,   33.,\n",
       "          34.,   35.,   36.,   37.,   38.,   39.,   40.,   41.,   42.,\n",
       "          43.,   44.,   45.,   46.,   47.,   48.,   49.,   50.,   51.,\n",
       "          52.,   53.,   54.,   55.,   56.,   57.,   58.,   59.,   60.,\n",
       "          61.,   62.,   63.,   64.,   65.,   66.,   67.,   68.,   69.,\n",
       "          70.,   71.,   72.,   73.,   74.,   75.,   76.,   77.,   78.,\n",
       "          79.,   80.,   81.,   82.,   83.,   84.,   85.,   86.,   87.,\n",
       "          88.,   89.,   90.,   91.,   92.,   93.,   94.,   95.,   96.,\n",
       "          97.,   98.,   99.,  100.,  101.,  102.,  103.,  104.,  105.,\n",
       "         106.,  107.,  108.,  109.,  110.,  111.,  112.,  113.,  114.,\n",
       "         115.,  116.,  117.,  118.,  119.,  120.,  121.,  122.,  123.,\n",
       "         124.,  125.,  126.,  127.,  128.,  129.,  130.,  131.,  132.,\n",
       "         133.,  134.,  135.,  136.,  137.,  138.,  139.,  140.,  141.,\n",
       "         142.,  143.,  144.,  145.,  146.,  147.,  148.,  149.,  150.,\n",
       "         151.,  152.,  153.,  154.,  155.,  156.,  157.,  158.,  159.,\n",
       "         160.,  161.,  162.,  163.,  164.,  165.,  166.,  167.,  168.,\n",
       "         169.,  170.,  171.,  172.,  173.,  174.,  175.,  176.,  177.,\n",
       "         178.,  179.,  180.,  181.,  182.,  183.,  184.,  185.,  186.,\n",
       "         187.,  188.,  189.,  190.,  191.,  192.,  193.,  194.,  195.,\n",
       "         196.,  197.,  198.,  199.,  200.,  201.,  202.,  203.,  204.,\n",
       "         205.,  206.,  207.,  208.,  209.,  210.,  211.,  212.,  213.,\n",
       "         214.,  215.,  216.,  217.,  218.,  219.,  220.,  221.,  222.,\n",
       "         223.,  224.,  225.,  226.,  227.,  228.,  229.,  230.,  231.,\n",
       "         232.,  233.,  234.,  235.,  236.,  237.,  238.,  239.,  240.,\n",
       "         241.,  242.,  243.,  244.,  245.,  246.,  247.,  248.,  249.,\n",
       "         250.,  251.,  252.,  253.,  254.,  255.,  256.,  257.,  258.,\n",
       "         259.,  260.,  261.,  262.,  263.,  264.,  265.,  266.,  267.,\n",
       "         268.,  269.,  270.,  271.,  272.,  273.,  274.,  275.,  276.,\n",
       "         277.,  278.,  279.,  280.,  281.,  282.,  283.,  284.,  285.,\n",
       "         286.,  287.,  288.,  289.,  290.,  291.,  292.,  293.,  294.,\n",
       "         295.,  296.,  297.,  298.,  299.,  300.,  301.,  302.,  303.,\n",
       "         304.,  305.,  306.,  307.,  308.,  309.,  310.,  311.,  312.,\n",
       "         313.,  314.,  315.,  316.,  317.,  318.,  319.,  320.,  321.,\n",
       "         322.,  323.,  324.,  325.,  326.,  327.,  328.,  329.,  330.,\n",
       "         331.,  332.,  333.,  334.,  335.,  336.,  337.,  338.,  339.,\n",
       "         340.,  341.,  342.,  343.,  344.,  345.,  346.,  347.,  348.,\n",
       "         349.,  350.,  351.,  352.,  353.,  354.,  355.,  356.,  357.,\n",
       "         358.,  359.,  360.,  361.,  362.,  363.,  364.,  365.,  366.,\n",
       "         367.,  368.,  369.,  370.,  371.,  372.,  373.,  374.,  375.,\n",
       "         376.,  377.,  378.,  379.,  380.,  381.,  382.,  383.,  384.,\n",
       "         385.,  386.,  387.,  388.,  389.,  390.,  391.,  392.,  393.,\n",
       "         394.,  395.,  396.,  397.,  398.,  399.,  400.,  401.,  402.,\n",
       "         403.,  404.,  405.,  406.,  407.,  408.,  409.,  410.,  411.,\n",
       "         412.,  413.,  414.,  415.,  416.,  417.,  418.,  419.,  420.,\n",
       "         421.,  422.,  423.,  424.,  425.,  426.,  427.,  428.,  429.,\n",
       "         430.,  431.,  432.,  433.,  434.,  435.,  436.,  437.,  438.,\n",
       "         439.,  440.,  441.,  442.,  443.,  444.,  445.,  446.,  447.,\n",
       "         448.,  449.,  450.,  451.,  452.,  453.,  454.,  455.,  456.,\n",
       "         457.,  458.,  459.,  460.,  461.,  462.,  463.,  464.,  465.,\n",
       "         466.,  467.,  468.,  469.,  470.,  471.,  472.,  473.,  474.,\n",
       "         475.,  476.,  477.,  478.,  479.,  480.,  481.,  482.,  483.,\n",
       "         484.,  485.,  486.,  487.,  488.,  489.,  490.,  491.,  492.,\n",
       "         493.,  494.,  495.,  496.,  497.,  498.,  499.,  500.,  501.,\n",
       "         502.,  503.,  504.,  505.,  506.,  507.,  508.,  509.,  510.,\n",
       "         511.,  512.,  513.,  514.,  515.,  516.,  517.,  518.,  519.,\n",
       "         520.,  521.,  522.,  523.,  524.,  525.,  526.,  527.,  528.,\n",
       "         529.,  530.,  531.,  532.,  533.,  534.,  535.,  536.,  537.,\n",
       "         538.,  539.,  540.,  541.,  542.,  543.,  544.,  545.,  546.,\n",
       "         547.,  548.,  549.,  550.,  551.,  552.,  553.,  554.,  555.,\n",
       "         556.,  557.,  558.,  559.,  560.,  561.,  562.,  563.,  564.,\n",
       "         565.,  566.,  567.,  568.,  569.,  570.,  571.,  572.,  573.,\n",
       "         574.,  575.,  576.,  577.,  578.,  579.,  580.,  581.,  582.,\n",
       "         583.,  584.,  585.,  586.,  587.,  588.,  589.,  590.,  591.,\n",
       "         592.,  593.,  594.,  595.,  596.,  597.,  598.,  599.,  600.,\n",
       "         601.,  602.,  603.,  604.,  605.,  606.,  607.,  608.,  609.,\n",
       "         610.,  611.,  612.,  613.,  614.,  615.,  616.,  617.,  618.,\n",
       "         619.,  620.,  621.,  622.,  623.,  624.,  625.,  626.,  627.,\n",
       "         628.,  629.,  630.,  631.,  632.,  633.,  634.,  635.,  636.,\n",
       "         637.,  638.,  639.,  640.,  641.,  642.,  643.,  644.,  645.,\n",
       "         646.,  647.,  648.,  649.,  650.,  651.,  652.,  653.,  654.,\n",
       "         655.,  656.,  657.,  658.,  659.,  660.,  661.,  662.,  663.,\n",
       "         664.,  665.,  666.,  667.,  668.,  669.,  670.,  671.,  672.,\n",
       "         673.,  674.,  675.,  676.,  677.,  678.,  679.,  680.,  681.,\n",
       "         682.,  683.,  684.,  685.,  686.,  687.,  688.,  689.,  690.,\n",
       "         691.,  692.,  693.,  694.,  695.,  696.,  697.,  698.,  699.,\n",
       "         700.]))"
      ]
     },
     "execution_count": 11,
     "metadata": {},
     "output_type": "execute_result"
    }
   ],
   "source": [
    "rfnp"
   ]
  },
  {
   "cell_type": "code",
   "execution_count": 9,
   "id": "14ee106b",
   "metadata": {},
   "outputs": [
    {
     "data": {
      "text/plain": [
       "900"
      ]
     },
     "execution_count": 9,
     "metadata": {},
     "output_type": "execute_result"
    }
   ],
   "source": [
    "len(rfnp[0][0])"
   ]
  },
  {
   "cell_type": "code",
   "execution_count": 10,
   "id": "6ee7923f",
   "metadata": {},
   "outputs": [
    {
     "data": {
      "text/plain": [
       "1201"
      ]
     },
     "execution_count": 10,
     "metadata": {},
     "output_type": "execute_result"
    }
   ],
   "source": [
    "len(rfnp[1])"
   ]
  },
  {
   "cell_type": "code",
   "execution_count": 11,
   "id": "551e7f89",
   "metadata": {},
   "outputs": [
    {
     "data": {
      "text/plain": [
       "901"
      ]
     },
     "execution_count": 11,
     "metadata": {},
     "output_type": "execute_result"
    }
   ],
   "source": [
    "len(rfnp[2])"
   ]
  },
  {
   "cell_type": "code",
   "execution_count": 12,
   "id": "d72bc08b",
   "metadata": {},
   "outputs": [
    {
     "data": {
      "text/plain": [
       "602.5595860743581"
      ]
     },
     "execution_count": 12,
     "metadata": {},
     "output_type": "execute_result"
    }
   ],
   "source": [
    "rfnp[1][578]"
   ]
  },
  {
   "cell_type": "code",
   "execution_count": 13,
   "id": "5c19a462",
   "metadata": {},
   "outputs": [
    {
     "data": {
      "text/plain": [
       "1000.0"
      ]
     },
     "execution_count": 13,
     "metadata": {},
     "output_type": "execute_result"
    }
   ],
   "source": [
    "rfnp[1][600]"
   ]
  },
  {
   "cell_type": "code",
   "execution_count": 14,
   "id": "741df89d",
   "metadata": {},
   "outputs": [
    {
     "data": {
      "text/plain": [
       "900"
      ]
     },
     "execution_count": 14,
     "metadata": {},
     "output_type": "execute_result"
    }
   ],
   "source": [
    "len(rfnp[0][600])"
   ]
  },
  {
   "cell_type": "code",
   "execution_count": 12,
   "id": "6fae88de",
   "metadata": {},
   "outputs": [],
   "source": [
    "tot = np.zeros(900)"
   ]
  },
  {
   "cell_type": "code",
   "execution_count": 13,
   "id": "ec9f42bc",
   "metadata": {},
   "outputs": [],
   "source": [
    "for i in range(578, 601):\n",
    "    tot += rfnp[0][i]"
   ]
  },
  {
   "cell_type": "code",
   "execution_count": 14,
   "id": "0d6e799c",
   "metadata": {},
   "outputs": [],
   "source": [
    "average = tot / 23"
   ]
  },
  {
   "cell_type": "code",
   "execution_count": 15,
   "id": "2b1a255d",
   "metadata": {},
   "outputs": [],
   "source": [
    "mean_dl = np.average((rfnp[2][1:] + rfnp[2][:-1])/ 2, axis = 0, weights = average)/100"
   ]
  },
  {
   "cell_type": "code",
   "execution_count": 16,
   "id": "8b4572ea",
   "metadata": {},
   "outputs": [],
   "source": [
    "sig_dl = np.sqrt(np.cov((rfnp[2][1:] + rfnp[2][:-1])/ 2, aweights= average))/100"
   ]
  },
  {
   "cell_type": "code",
   "execution_count": 17,
   "id": "d16c0cc3",
   "metadata": {},
   "outputs": [
    {
     "name": "stdout",
     "output_type": "stream",
     "text": [
      "0.2197748041962846 0.2972413812367348\n"
     ]
    }
   ],
   "source": [
    "print(mean_dl, sig_dl)"
   ]
  },
  {
   "cell_type": "code",
   "execution_count": 48,
   "id": "1ec841c2",
   "metadata": {},
   "outputs": [],
   "source": [
    "f = open(\"endf/Bi.txt\")\n",
    "energy = []\n",
    "crs = []\n",
    "for line in f:\n",
    "    energy.append(float(line[3:14]))\n",
    "    crs.append(float(line[16:27]))\n",
    "energy = np.array(energy) * 1e6\n",
    "crs = np.array(crs)"
   ]
  },
  {
   "cell_type": "code",
   "execution_count": 49,
   "id": "863199d4",
   "metadata": {},
   "outputs": [],
   "source": [
    "ts = xsec_to_ts(crs * 1e-28, 9747, 0.01, 3.47e-25)"
   ]
  },
  {
   "cell_type": "code",
   "execution_count": 2,
   "id": "805d602f",
   "metadata": {},
   "outputs": [],
   "source": [
    "Bi = h5py.File(\"temp_data/Bi.hdf5\", \"r\")\n",
    "empty = h5py.File(\"temp_data/empty.hdf5\", \"r\")"
   ]
  },
  {
   "cell_type": "code",
   "execution_count": 3,
   "id": "0723e8d8",
   "metadata": {},
   "outputs": [],
   "source": [
    "amp_BiIn = Bi['amp'][:]\n",
    "en_BiIn = Bi['energy'][:]\n",
    "tof_BiIn = Bi['tof'][:]\n",
    "norm_BiIn = Bi['norm'][0]\n",
    "detn_BiIn = Bi['detn'][:]\n",
    "amp_BiOut = empty['amp'][:]\n",
    "en_BiOut = empty['energy'][:]\n",
    "tof_BiOut = empty['tof'][:]\n",
    "norm_BiOut = empty['norm'][0]\n",
    "detn_BiOut = empty['detn'][:]"
   ]
  },
  {
   "cell_type": "code",
   "execution_count": 4,
   "id": "18df6448",
   "metadata": {},
   "outputs": [],
   "source": [
    "tof_BiIn_select = select_tof_ptbc(tof_BiIn, detn_BiIn, amp_BiIn)\n",
    "tof_BiOut_select = select_tof_ptbc(tof_BiOut, detn_BiOut, amp_BiOut)"
   ]
  },
  {
   "cell_type": "code",
   "execution_count": 5,
   "id": "3896b4e9",
   "metadata": {},
   "outputs": [
    {
     "data": {
      "image/png": "[encoded data removed]",
      "text/plain": [
       "<Figure size 432x288 with 1 Axes>"
      ]
     },
     "metadata": {
      "needs_background": "light"
     },
     "output_type": "display_data"
    }
   ],
   "source": [
    "hist_BiIn, bins_BiIn, _ = plt.hist(tof_BiIn_select, bins = 50, range = (420000, 540000))"
   ]
  },
  {
   "cell_type": "code",
   "execution_count": 6,
   "id": "3762cfc0",
   "metadata": {},
   "outputs": [
    {
     "data": {
      "image/png": "[encoded data removed]",
      "text/plain": [
       "<Figure size 432x288 with 1 Axes>"
      ]
     },
     "metadata": {
      "needs_background": "light"
     },
     "output_type": "display_data"
    }
   ],
   "source": [
    "hist_BiOut, bins_BiOut, _ = plt.hist(tof_BiOut_select, bins = 50, range = (420000, 540000))"
   ]
  },
  {
   "cell_type": "code",
   "execution_count": 169,
   "id": "e09bdb60",
   "metadata": {},
   "outputs": [],
   "source": [
    "x_tof = (bins_BiIn[1:] + bins_BiIn[:-1]) / 2\n",
    "error_BiIn =  np.sqrt(hist_BiIn)\n",
    "error_BiIn[error_BiIn == 0] = 0.7\n",
    "tr, tr_error = transmission(hist_BiIn / norm_BiIn, error_BiIn / norm_BiIn, hist_BiOut / norm_BiOut, np.sqrt(hist_BiOut) / norm_BiOut)"
   ]
  },
  {
   "cell_type": "code",
   "execution_count": 94,
   "id": "844ef157",
   "metadata": {},
   "outputs": [],
   "source": [
    "def y_fit(energy, L, t):\n",
    "    energy_smear, crs_smear = smear(energy, crs, mean_dl, sig_dl, 500, 1100, 100, L)\n",
    "    ts = xsec_to_ts(np.array(crs_smear) * 1e-28, 9747, t, 3.47e-25)[::-1]\n",
    "    tof = energy_to_tof(energy_smear / 1e6, L, 939.56542, 299792458)[::-1] * 1e9\n",
    "    y_ts = []\n",
    "    for x in x_tof:\n",
    "        y_ts.append(np.interp(x, tof, ts))\n",
    "    y_ts = np.array(y_ts)\n",
    "    return y_ts"
   ]
  },
  {
   "cell_type": "code",
   "execution_count": 95,
   "id": "6bf988de",
   "metadata": {},
   "outputs": [
    {
     "data": {
      "text/plain": [
       "(array([1.82298155e+02, 9.98341929e-03]),\n",
       " array([[1.77689851e-03, 3.02347170e-07],\n",
       "        [3.02347170e-07, 5.14048998e-08]]))"
      ]
     },
     "execution_count": 95,
     "metadata": {},
     "output_type": "execute_result"
    }
   ],
   "source": [
    "optimize.curve_fit(y_fit, energy, tr, sigma=tr_error, p0=[182, 0.01], absolute_sigma=True)"
   ]
  },
  {
   "cell_type": "code",
   "execution_count": 96,
   "id": "f9ab72b3",
   "metadata": {},
   "outputs": [
    {
     "data": {
      "text/plain": [
       "0.04215327401282135"
      ]
     },
     "execution_count": 96,
     "metadata": {},
     "output_type": "execute_result"
    }
   ],
   "source": [
    "np.sqrt(1.77689851e-03)"
   ]
  },
  {
   "cell_type": "code",
   "execution_count": 97,
   "id": "083a9ef8",
   "metadata": {},
   "outputs": [
    {
     "data": {
      "text/plain": [
       "0.0002267264867632364"
      ]
     },
     "execution_count": 97,
     "metadata": {},
     "output_type": "execute_result"
    }
   ],
   "source": [
    "np.sqrt(5.14048998e-08)"
   ]
  },
  {
   "cell_type": "code",
   "execution_count": 128,
   "id": "391ca80d",
   "metadata": {},
   "outputs": [],
   "source": [
    "Al = h5py.File(\"temp_data/Al5.hdf5\", \"r\")"
   ]
  },
  {
   "cell_type": "code",
   "execution_count": 129,
   "id": "978c1544",
   "metadata": {},
   "outputs": [],
   "source": [
    "amp_AlIn = Al['amp'][:]\n",
    "en_AlIn = Al['energy'][:]\n",
    "tof_AlIn = Al['tof'][:]\n",
    "norm_AlIn = Al['norm'][0]\n",
    "detn_AlIn = Al['detn'][:]\n",
    "amp_AlOut = empty['amp'][:]\n",
    "en_AlOut = empty['energy'][:]\n",
    "tof_AlOut = empty['tof'][:]\n",
    "norm_AlOut = empty['norm'][0]\n",
    "detn_AlOut = empty['detn'][:]"
   ]
  },
  {
   "cell_type": "code",
   "execution_count": 130,
   "id": "3dde3c94",
   "metadata": {},
   "outputs": [],
   "source": [
    "f = open(\"endf/Al.txt\")\n",
    "energy = []\n",
    "crs = []\n",
    "for line in f:\n",
    "    energy.append(float(line[3:14]))\n",
    "    crs.append(float(line[16:27]))\n",
    "energy = np.array(energy) * 1e6\n",
    "crs = np.array(crs)"
   ]
  },
  {
   "cell_type": "code",
   "execution_count": 131,
   "id": "13b632bc",
   "metadata": {},
   "outputs": [
    {
     "data": {
      "text/plain": [
       "5011.872336272725"
      ]
     },
     "execution_count": 131,
     "metadata": {},
     "output_type": "execute_result"
    }
   ],
   "source": [
    "rfnp[1][670]"
   ]
  },
  {
   "cell_type": "code",
   "execution_count": 132,
   "id": "8a0a41fe",
   "metadata": {},
   "outputs": [
    {
     "data": {
      "text/plain": [
       "7079.457843841388"
      ]
     },
     "execution_count": 132,
     "metadata": {},
     "output_type": "execute_result"
    }
   ],
   "source": [
    "rfnp[1][685]"
   ]
  },
  {
   "cell_type": "code",
   "execution_count": 133,
   "id": "d0606f9c",
   "metadata": {},
   "outputs": [],
   "source": [
    "tot = np.zeros(900)"
   ]
  },
  {
   "cell_type": "code",
   "execution_count": 134,
   "id": "c958df61",
   "metadata": {},
   "outputs": [],
   "source": [
    "for i in range(670, 686):\n",
    "    tot += rfnp[0][i]"
   ]
  },
  {
   "cell_type": "code",
   "execution_count": 135,
   "id": "3808a246",
   "metadata": {},
   "outputs": [],
   "source": [
    "average = tot / 15"
   ]
  },
  {
   "cell_type": "code",
   "execution_count": 136,
   "id": "1e898c8e",
   "metadata": {},
   "outputs": [],
   "source": [
    "mean_dl = np.average((rfnp[2][1:] + rfnp[2][:-1])/ 2, axis = 0, weights = average)/100"
   ]
  },
  {
   "cell_type": "code",
   "execution_count": 137,
   "id": "0745171f",
   "metadata": {},
   "outputs": [],
   "source": [
    "sig_dl = np.sqrt(np.cov((rfnp[2][1:] + rfnp[2][:-1])/ 2, aweights= average))/100"
   ]
  },
  {
   "cell_type": "code",
   "execution_count": 138,
   "id": "dcf78a88",
   "metadata": {},
   "outputs": [
    {
     "name": "stdout",
     "output_type": "stream",
     "text": [
      "0.2914282056211275 0.36507441111770844\n"
     ]
    }
   ],
   "source": [
    "print(mean_dl, sig_dl)"
   ]
  },
  {
   "cell_type": "code",
   "execution_count": 140,
   "id": "233fbc83",
   "metadata": {},
   "outputs": [],
   "source": [
    "tof_AlIn_select = select_tof_ptbc(tof_AlIn, detn_AlIn, amp_AlIn)\n",
    "tof_AlOut_select = select_tof_ptbc(tof_AlOut, detn_AlOut, amp_AlOut)"
   ]
  },
  {
   "cell_type": "code",
   "execution_count": 141,
   "id": "4e47e8a5",
   "metadata": {},
   "outputs": [
    {
     "data": {
      "image/png": "[encoded data removed]",
      "text/plain": [
       "<Figure size 432x288 with 1 Axes>"
      ]
     },
     "metadata": {
      "needs_background": "light"
     },
     "output_type": "display_data"
    }
   ],
   "source": [
    "hist_AlIn, bins_AlIn, _ = plt.hist(tof_AlIn_select, bins = 50, range = (160000, 185000))"
   ]
  },
  {
   "cell_type": "code",
   "execution_count": 142,
   "id": "8d6f0b9d",
   "metadata": {},
   "outputs": [
    {
     "data": {
      "image/png": "[encoded data removed]",
      "text/plain": [
       "<Figure size 432x288 with 1 Axes>"
      ]
     },
     "metadata": {
      "needs_background": "light"
     },
     "output_type": "display_data"
    }
   ],
   "source": [
    "hist_AlOut, bins_AlOut, _ = plt.hist(tof_AlOut_select, bins = 50, range = (160000, 185000))"
   ]
  },
  {
   "cell_type": "code",
   "execution_count": 143,
   "id": "18368100",
   "metadata": {},
   "outputs": [],
   "source": [
    "x_tof = (bins_AlIn[1:] + bins_AlIn[:-1]) / 2\n",
    "error_AlIn =  np.sqrt(hist_AlIn)\n",
    "error_AlIn[error_AlIn == 0] = 0.7\n",
    "tr, tr_error = transmission(hist_AlIn / norm_AlIn, error_AlIn / norm_AlIn, hist_AlOut / norm_AlOut, np.sqrt(hist_AlOut) / norm_AlOut)"
   ]
  },
  {
   "cell_type": "code",
   "execution_count": 149,
   "id": "2ebb3d38",
   "metadata": {},
   "outputs": [],
   "source": [
    "def y_fit(energy, L, t):\n",
    "    energy_smear, crs_smear = smear(energy, crs, mean_dl, sig_dl, 4500, 7500, 100, L)\n",
    "    ts = xsec_to_ts(np.array(crs_smear) * 1e-28, 2710, t, 4.48e-26)[::-1]\n",
    "    tof = energy_to_tof(energy_smear / 1e6, L, 939.56542, 299792458)[::-1] * 1e9\n",
    "    y_ts = []\n",
    "    for x in x_tof:\n",
    "        y_ts.append(np.interp(x, tof, ts))\n",
    "    y_ts = np.array(y_ts)\n",
    "    return y_ts"
   ]
  },
  {
   "cell_type": "code",
   "execution_count": 150,
   "id": "74add5aa",
   "metadata": {},
   "outputs": [
    {
     "data": {
      "text/plain": [
       "(array([1.82379106e+02, 4.78055097e-02]),\n",
       " array([[ 1.71597989e-03, -2.74576885e-06],\n",
       "        [-2.74576885e-06,  3.39753887e-06]]))"
      ]
     },
     "execution_count": 150,
     "metadata": {},
     "output_type": "execute_result"
    }
   ],
   "source": [
    "optimize.curve_fit(y_fit, energy, tr, sigma=tr_error, p0=[182, 0.08], absolute_sigma=True)"
   ]
  },
  {
   "cell_type": "code",
   "execution_count": 152,
   "id": "06e8cce7",
   "metadata": {},
   "outputs": [
    {
     "data": {
      "text/plain": [
       "0.001843241403072316"
      ]
     },
     "execution_count": 152,
     "metadata": {},
     "output_type": "execute_result"
    }
   ],
   "source": [
    "np.sqrt(3.39753887e-06)"
   ]
  },
  {
   "cell_type": "code",
   "execution_count": 35,
   "id": "faade09f",
   "metadata": {},
   "outputs": [],
   "source": [
    "f = open(\"endf/Bi.txt\")\n",
    "energy = []\n",
    "crs = []\n",
    "for line in f:\n",
    "    energy.append(float(line[3:14]))\n",
    "    crs.append(float(line[16:27]))\n",
    "energy = np.array(energy) * 1e6\n",
    "crs = np.array(crs)"
   ]
  },
  {
   "cell_type": "code",
   "execution_count": 18,
   "id": "726fb303",
   "metadata": {},
   "outputs": [],
   "source": [
    "energy_smear, crs_smear = smear(energy, crs, mean_dl, sig_dl, 600, 1000, 100, 182.3)"
   ]
  },
  {
   "cell_type": "code",
   "execution_count": 19,
   "id": "e1f026df",
   "metadata": {},
   "outputs": [],
   "source": [
    "ts_smear = xsec_to_ts(crs_smear * 1e-28, 9747, 9.98341929e-03, 3.47e-25)"
   ]
  },
  {
   "cell_type": "code",
   "execution_count": 20,
   "id": "1ee159eb",
   "metadata": {},
   "outputs": [],
   "source": [
    "en_BiIn_select = tof_to_energy(tof_BiIn_select / 1e9, 182.3, 939.56542, 299792458) * 1e6\n",
    "en_BiOut_select = tof_to_energy(tof_BiOut_select / 1e9, 182.3, 939.56542, 299792458) * 1e6"
   ]
  },
  {
   "cell_type": "code",
   "execution_count": 21,
   "id": "988a8e66",
   "metadata": {},
   "outputs": [
    {
     "data": {
      "image/png": "[encoded data removed]",
      "text/plain": [
       "<Figure size 432x288 with 1 Axes>"
      ]
     },
     "metadata": {
      "needs_background": "light"
     },
     "output_type": "display_data"
    }
   ],
   "source": [
    "hist_BiIn, bins_BiIn, _ = plt.hist(en_BiIn_select, bins = 50, range = (600, 1000))"
   ]
  },
  {
   "cell_type": "code",
   "execution_count": 22,
   "id": "1cb9356d",
   "metadata": {},
   "outputs": [
    {
     "data": {
      "image/png": "[encoded data removed]",
      "text/plain": [
       "<Figure size 432x288 with 1 Axes>"
      ]
     },
     "metadata": {
      "needs_background": "light"
     },
     "output_type": "display_data"
    }
   ],
   "source": [
    "hist_BiOut, bins_BiOut, _ = plt.hist(en_BiOut_select, bins = 50, range = (600, 1000))"
   ]
  },
  {
   "cell_type": "code",
   "execution_count": 23,
   "id": "f72d848d",
   "metadata": {},
   "outputs": [],
   "source": [
    "x_en = (bins_BiIn[1:] + bins_BiIn[:-1]) / 2\n",
    "error_BiIn =  np.sqrt(hist_BiIn)\n",
    "error_BiIn[error_BiIn == 0] = 0.7\n",
    "tr, tr_error = transmission(hist_BiIn / norm_BiIn, error_BiIn / norm_BiIn, hist_BiOut / norm_BiOut, np.sqrt(hist_BiOut) / norm_BiOut)"
   ]
  },
  {
   "cell_type": "code",
   "execution_count": 36,
   "id": "52dc77bc",
   "metadata": {},
   "outputs": [
    {
     "data": {
      "text/plain": [
       "<matplotlib.legend.Legend at 0x7fd3f6a15850>"
      ]
     },
     "execution_count": 36,
     "metadata": {},
     "output_type": "execute_result"
    },
    {
     "data": {
      "image/png": "[encoded data removed]",
      "text/plain": [
       "<Figure size 720x720 with 1 Axes>"
      ]
     },
     "metadata": {
      "needs_background": "light"
     },
     "output_type": "display_data"
    }
   ],
   "source": [
    "plt.figure(figsize=(10,10))\n",
    "plt.plot(energy, ts,label='endf')\n",
    "plt.plot(energy_smear, ts_smear,label='endf_smear')\n",
    "plt.errorbar(x_en, tr, yerr=tr_error, label = 'data', fmt=\"g.\")\n",
    "plt.xlim(600,1000)\n",
    "plt.legend()"
   ]
  },
  {
   "cell_type": "code",
   "execution_count": 34,
   "id": "d92dbc72",
   "metadata": {},
   "outputs": [],
   "source": [
    "tof = energy_to_tof(energy/1e6, 182.3, 939.56542, 299792458) * 1e9\n",
    "ts = xsec_to_ts(crs * 1e-28, 9747, 9.98341929e-03, 3.47e-25)"
   ]
  },
  {
   "cell_type": "code",
   "execution_count": 31,
   "id": "fc127b97",
   "metadata": {},
   "outputs": [],
   "source": [
    "tof = tof[::-1]\n",
    "ts = ts[::-1]"
   ]
  },
  {
   "cell_type": "code",
   "execution_count": 32,
   "id": "b61a17a8",
   "metadata": {},
   "outputs": [
    {
     "data": {
      "image/png": "[encoded data removed]",
      "text/plain": [
       "<Figure size 720x720 with 1 Axes>"
      ]
     },
     "metadata": {
      "needs_background": "light"
     },
     "output_type": "display_data"
    }
   ],
   "source": [
    "plt.figure(figsize=(10,10))\n",
    "plt.plot(tof, ts)\n",
    "plt.xscale('log')\n",
    "plt.yscale('log')"
   ]
  },
  {
   "cell_type": "code",
   "execution_count": 37,
   "id": "af446adf",
   "metadata": {},
   "outputs": [],
   "source": [
    "left = search_asc(tof, 464000)\n",
    "right = search_asc(tof, 467500)"
   ]
  },
  {
   "cell_type": "code",
   "execution_count": 38,
   "id": "6e9a5f25",
   "metadata": {},
   "outputs": [
    {
     "data": {
      "text/plain": [
       "[<matplotlib.lines.Line2D at 0x7fa57618f550>]"
      ]
     },
     "execution_count": 38,
     "metadata": {},
     "output_type": "execute_result"
    },
    {
     "data": {
      "image/png": "[encoded data removed]",
      "text/plain": [
       "<Figure size 720x720 with 1 Axes>"
      ]
     },
     "metadata": {
      "needs_background": "light"
     },
     "output_type": "display_data"
    }
   ],
   "source": [
    "plt.figure(figsize=(10,10))\n",
    "plt.plot(tof[left:right], ts[left:right])"
   ]
  },
  {
   "cell_type": "code",
   "execution_count": 42,
   "id": "92579721",
   "metadata": {},
   "outputs": [],
   "source": [
    "cur_ts = ts[left]\n",
    "while(cur_ts > 0.0001):\n",
    "    left += 1\n",
    "    cur_ts = ts[left]"
   ]
  },
  {
   "cell_type": "code",
   "execution_count": 43,
   "id": "75dde46d",
   "metadata": {},
   "outputs": [
    {
     "data": {
      "text/plain": [
       "26572"
      ]
     },
     "execution_count": 43,
     "metadata": {},
     "output_type": "execute_result"
    }
   ],
   "source": [
    "left"
   ]
  },
  {
   "cell_type": "code",
   "execution_count": 44,
   "id": "9b6dcffa",
   "metadata": {},
   "outputs": [],
   "source": [
    "cur_ts = ts[right]\n",
    "while(cur_ts > 0.0001):\n",
    "    right -= 1\n",
    "    cur_ts = ts[right]"
   ]
  },
  {
   "cell_type": "code",
   "execution_count": 45,
   "id": "e2a712e1",
   "metadata": {},
   "outputs": [
    {
     "data": {
      "text/plain": [
       "26670"
      ]
     },
     "execution_count": 45,
     "metadata": {},
     "output_type": "execute_result"
    }
   ],
   "source": [
    "right"
   ]
  },
  {
   "cell_type": "code",
   "execution_count": 46,
   "id": "b37ef362",
   "metadata": {},
   "outputs": [
    {
     "data": {
      "text/plain": [
       "[<matplotlib.lines.Line2D at 0x7fa625f272e0>]"
      ]
     },
     "execution_count": 46,
     "metadata": {},
     "output_type": "execute_result"
    },
    {
     "data": {
      "image/png": "[encoded data removed]",
      "text/plain": [
       "<Figure size 720x720 with 1 Axes>"
      ]
     },
     "metadata": {
      "needs_background": "light"
     },
     "output_type": "display_data"
    }
   ],
   "source": [
    "plt.figure(figsize=(10,10))\n",
    "plt.plot(tof[left:right], ts[left:right])"
   ]
  },
  {
   "cell_type": "code",
   "execution_count": 47,
   "id": "6072711f",
   "metadata": {},
   "outputs": [
    {
     "data": {
      "text/plain": [
       "464300.0203160991"
      ]
     },
     "execution_count": 47,
     "metadata": {},
     "output_type": "execute_result"
    }
   ],
   "source": [
    "tof[left]"
   ]
  },
  {
   "cell_type": "code",
   "execution_count": 48,
   "id": "7426a927",
   "metadata": {},
   "outputs": [
    {
     "data": {
      "text/plain": [
       "467219.8091169667"
      ]
     },
     "execution_count": 48,
     "metadata": {},
     "output_type": "execute_result"
    }
   ],
   "source": [
    "tof[right]"
   ]
  },
  {
   "cell_type": "code",
   "execution_count": 49,
   "id": "45fc76e3",
   "metadata": {},
   "outputs": [
    {
     "data": {
      "text/plain": [
       "2919.7888008675654"
      ]
     },
     "execution_count": 49,
     "metadata": {},
     "output_type": "execute_result"
    }
   ],
   "source": [
    "tof[right] - tof[left]"
   ]
  },
  {
   "cell_type": "code",
   "execution_count": 50,
   "id": "de5ede01",
   "metadata": {},
   "outputs": [],
   "source": [
    "tof_BiIn_select = tof_BiIn[(tof_BiIn >= tof[left]) & (tof_BiIn <= tof[right])]\n",
    "detn_BiIn_select = detn_BiIn[(tof_BiIn >= tof[left]) & (tof_BiIn <= tof[right])]\n",
    "amp_BiIn_select = amp_BiIn[(tof_BiIn >= tof[left]) & (tof_BiIn <= tof[right])]"
   ]
  },
  {
   "cell_type": "code",
   "execution_count": 51,
   "id": "11ec26d6",
   "metadata": {},
   "outputs": [],
   "source": [
    "tof_BiIn_select_2 = select_tof_ptbc(tof_BiIn_select, detn_BiIn_select, amp_BiIn_select)"
   ]
  },
  {
   "cell_type": "code",
   "execution_count": 52,
   "id": "a4366f0a",
   "metadata": {},
   "outputs": [
    {
     "data": {
      "text/plain": [
       "array([465086.33996553, 464979.65234603])"
      ]
     },
     "execution_count": 52,
     "metadata": {},
     "output_type": "execute_result"
    }
   ],
   "source": [
    "tof_BiIn_select_2"
   ]
  },
  {
   "cell_type": "code",
   "execution_count": 54,
   "id": "a038e29c",
   "metadata": {},
   "outputs": [
    {
     "data": {
      "text/plain": [
       "5.3777341833281536e+17"
      ]
     },
     "execution_count": 54,
     "metadata": {},
     "output_type": "execute_result"
    }
   ],
   "source": [
    "norm_BiIn"
   ]
  },
  {
   "cell_type": "code",
   "execution_count": 223,
   "id": "a8074ae8",
   "metadata": {},
   "outputs": [],
   "source": [
    "import math"
   ]
  },
  {
   "cell_type": "code",
   "execution_count": 224,
   "id": "32ff7762",
   "metadata": {},
   "outputs": [],
   "source": [
    "def poisson(k, mu):\n",
    "    return mu**k * np.exp(-mu) / math.factorial(k)"
   ]
  },
  {
   "cell_type": "code",
   "execution_count": 225,
   "id": "4ec31834",
   "metadata": {},
   "outputs": [
    {
     "data": {
      "text/plain": [
       "0.15865"
      ]
     },
     "execution_count": 225,
     "metadata": {},
     "output_type": "execute_result"
    }
   ],
   "source": [
    "0.3173/2"
   ]
  },
  {
   "cell_type": "code",
   "execution_count": 227,
   "id": "abe9c615",
   "metadata": {},
   "outputs": [],
   "source": [
    "def upper_sum(mu):\n",
    "    return poisson(2, mu) + poisson(1, mu) + poisson(0, mu)"
   ]
  },
  {
   "cell_type": "code",
   "execution_count": 235,
   "id": "91082616",
   "metadata": {},
   "outputs": [
    {
     "name": "stdout",
     "output_type": "stream",
     "text": [
      "4.5 0.17357807091003602\n",
      "4.51 0.1724564054796607\n",
      "4.52 0.17134096522943798\n",
      "4.53 0.170231726492846\n",
      "4.54 0.16912866556581355\n",
      "4.55 0.168031758708737\n",
      "4.56 0.1669409821484728\n",
      "4.57 0.1658563120803034\n",
      "4.58 0.1647777246698791\n",
      "4.59 0.16370519605513273\n",
      "4.6 0.1626387023481714\n",
      "4.61 0.16157821963714233\n",
      "4.62 0.16052372398807502\n",
      "4.63 0.15947519144669783\n",
      "4.64 0.1584325980402317\n",
      "4.65 0.1573959197791593\n",
      "4.66 0.15636513265897078\n",
      "4.67 0.15534021266188555\n",
      "4.68 0.15432113575855116\n",
      "4.69 0.15330787790971875\n",
      "4.7 0.15230041506789643\n",
      "4.71 0.1512987231789782\n",
      "4.72 0.15030277818385213\n",
      "4.73 0.14931255601998514\n",
      "4.74 0.14832803262298655\n",
      "4.75 0.14734918392814833\n",
      "4.76 0.14637598587196485\n",
      "4.77 0.14540841439363072\n",
      "4.78 0.14444644543651677\n",
      "4.79 0.14349005494962597\n",
      "4.8 0.1425392188890269\n",
      "4.81 0.1415939132192677\n",
      "4.82 0.1406541139147687\n",
      "4.83 0.13971979696119524\n",
      "4.84 0.13879093835680936\n",
      "4.85 0.13786751411380238\n",
      "4.86 0.13694950025960714\n",
      "4.87 0.1360368728381908\n",
      "4.88 0.1351296079113277\n",
      "4.89 0.13422768155985362\n",
      "4.9 0.1333310698849003\n",
      "4.91 0.13243974900911154\n",
      "4.92 0.13155369507783995\n",
      "4.93 0.1306728842603258\n",
      "4.94 0.12979729275085664\n",
      "4.95 0.12892689676990987\n",
      "4.96 0.12806167256527592\n",
      "4.97 0.12720159641316445\n",
      "4.98 0.12634664461929257\n",
      "4.99 0.12549679351995585\n",
      "5.0 0.12465201948308113\n"
     ]
    }
   ],
   "source": [
    "for i in np.linspace(4.5,5,51):\n",
    "    print(str(i) + \" \" + str(upper_sum(i)))\n",
    "#4.64 0.1584325980402317"
   ]
  },
  {
   "cell_type": "code",
   "execution_count": 241,
   "id": "97ae3407",
   "metadata": {},
   "outputs": [],
   "source": [
    "def lower_sum(mu):\n",
    "    return 1 - poisson(0, mu) - poisson(1, mu)"
   ]
  },
  {
   "cell_type": "code",
   "execution_count": 246,
   "id": "2ef1d35a",
   "metadata": {},
   "outputs": [
    {
     "name": "stdout",
     "output_type": "stream",
     "text": [
      "0.7 0.15580498355460382\n",
      "0.701 0.1561526676475074\n",
      "0.702 0.15650050007110722\n",
      "0.703 0.15684848018155323\n",
      "0.704 0.15719660733613489\n",
      "0.705 0.1575448808932784\n",
      "0.706 0.15789330021254588\n",
      "0.707 0.15824186465463314\n",
      "0.708 0.15859057358136858\n",
      "0.709 0.1589394263557114\n",
      "0.71 0.15928842234174967\n",
      "0.711 0.15963756090469894\n",
      "0.712 0.15998684141090092\n",
      "0.713 0.16033626322782119\n",
      "0.714 0.16068582572404816\n",
      "0.715 0.16103552826929135\n",
      "0.716 0.16138537023437954\n",
      "0.717 0.16173535099125957\n",
      "0.718 0.16208546991299377\n",
      "0.719 0.1624357263737602\n",
      "0.72 0.16278611974884866\n",
      "0.721 0.1631366494146615\n",
      "0.722 0.16348731474870998\n",
      "0.723 0.16383811512961421\n",
      "0.724 0.16418904993710032\n",
      "0.725 0.16454011855199974\n",
      "0.726 0.16489132035624748\n",
      "0.727 0.16524265473288036\n",
      "0.728 0.165594121066035\n",
      "0.729 0.16594571874094727\n",
      "0.73 0.16629744714394973\n",
      "0.731 0.16664930566247071\n",
      "0.732 0.16700129368503247\n",
      "0.733 0.1673534106012492\n",
      "0.734 0.16770565580182656\n",
      "0.735 0.16805802867855868\n",
      "0.736 0.16841052862432804\n",
      "0.737 0.16876315503310285\n",
      "0.738 0.16911590729993575\n",
      "0.739 0.16946878482096245\n",
      "0.74 0.16982178699340011\n",
      "0.741 0.17017491321554568\n",
      "0.742 0.17052816288677441\n",
      "0.743 0.17088153540753814\n",
      "0.744 0.17123503017936403\n",
      "0.745 0.1715886466048528\n",
      "0.746 0.1719423840876773\n",
      "0.747 0.17229624203258087\n",
      "0.748 0.1726502198453757\n",
      "0.749 0.17300431693294155\n",
      "0.75 0.17335853270322432\n",
      "0.751 0.1737128665652336\n",
      "0.752 0.17406731792904273\n",
      "0.753 0.17442188620578541\n",
      "0.754 0.1747765708076558\n",
      "0.755 0.1751313711479059\n",
      "0.756 0.17548628664084448\n",
      "0.757 0.17584131670183567\n",
      "0.758 0.17619646074729695\n",
      "0.759 0.17655171819469828\n",
      "0.76 0.17690708846255976\n",
      "0.761 0.17726257097045112\n",
      "0.762 0.1776181651389892\n",
      "0.763 0.17797387038983742\n",
      "0.764 0.17832968614570288\n",
      "0.765 0.17868561183033682\n",
      "0.766 0.1790416468685312\n",
      "0.767 0.17939779068611822\n",
      "0.768 0.17975404270996864\n",
      "0.769 0.1801104023679903\n",
      "0.77 0.18046686908912624\n",
      "0.771 0.18082344230335412\n",
      "0.772 0.1811801214416836\n",
      "0.773 0.1815369059361553\n",
      "0.774 0.18189379521983995\n",
      "0.775 0.1822507887268357\n",
      "0.776 0.18260788589226767\n",
      "0.777 0.18296508615228563\n",
      "0.778 0.1833223889440635\n",
      "0.779 0.18367979370579696\n",
      "0.78 0.18403729987670214\n",
      "0.781 0.18439490689701454\n",
      "0.782 0.1847526142079875\n",
      "0.783 0.1851104212518902\n",
      "0.784 0.1854683274720066\n",
      "0.785 0.185826332312634\n",
      "0.786 0.1861844352190815\n",
      "0.787 0.18654263563766837\n",
      "0.788 0.18690093301572297\n",
      "0.789 0.1872593268015807\n",
      "0.79 0.18761781644458297\n",
      "0.791 0.187976401395076\n",
      "0.792 0.1883350811044086\n",
      "0.793 0.18869385502493113\n",
      "0.794 0.18905272260999412\n",
      "0.795 0.18941168331394687\n",
      "0.796 0.189770736592136\n",
      "0.797 0.19012988190090313\n",
      "0.798 0.19048911869758495\n",
      "0.799 0.19084844644051074\n",
      "0.8 0.1912078645890012\n"
     ]
    }
   ],
   "source": [
    "for i in np.linspace(0.7,0.8,101):\n",
    "    print(str(i) + \" \" + str(lower_sum(i)))\n",
    "#0.709 0.1589394263557114"
   ]
  },
  {
   "cell_type": "code",
   "execution_count": 247,
   "id": "2f7ecee3",
   "metadata": {},
   "outputs": [
    {
     "data": {
      "text/plain": [
       "1.2737354192853852e-21"
      ]
     },
     "execution_count": 247,
     "metadata": {},
     "output_type": "execute_result"
    }
   ],
   "source": [
    "2 / 2919.7888008675654 / norm_BiIn"
   ]
  },
  {
   "cell_type": "code",
   "execution_count": 249,
   "id": "9181dec0",
   "metadata": {},
   "outputs": [
    {
     "data": {
      "text/plain": [
       "2.9550661727420935e-21"
      ]
     },
     "execution_count": 249,
     "metadata": {},
     "output_type": "execute_result"
    }
   ],
   "source": [
    "4.64 / 2919.7888008675654 / norm_BiIn"
   ]
  },
  {
   "cell_type": "code",
   "execution_count": 250,
   "id": "ae36db70",
   "metadata": {},
   "outputs": [
    {
     "data": {
      "text/plain": [
       "4.515392061366691e-22"
      ]
     },
     "execution_count": 250,
     "metadata": {},
     "output_type": "execute_result"
    }
   ],
   "source": [
    "0.709 / 2919.7888008675654 / norm_BiIn"
   ]
  },
  {
   "cell_type": "code",
   "execution_count": 60,
   "id": "1fb224ce",
   "metadata": {},
   "outputs": [
    {
     "data": {
      "image/png": "[encoded data removed]",
      "text/plain": [
       "<Figure size 720x720 with 1 Axes>"
      ]
     },
     "metadata": {
      "needs_background": "light"
     },
     "output_type": "display_data"
    }
   ],
   "source": [
    "plt.figure(figsize=(10,10))\n",
    "hist_BiIn, bins_BiIn, _ = plt.hist(en_BiIn_select, bins = 50, range = (600, 1000))"
   ]
  },
  {
   "cell_type": "code",
   "execution_count": 58,
   "id": "17fd3b2d",
   "metadata": {},
   "outputs": [],
   "source": [
    "bg_BiIn_low = 4.515392061366691e-22 * norm_BiIn * 1e9\n",
    "bg_BiIn_mid = 1.2737354192853852e-21 * norm_BiIn * 1e9\n",
    "bg_BiIn_high = 2.9550661727420935e-21 * norm_BiIn * 1e9"
   ]
  },
  {
   "cell_type": "code",
   "execution_count": 62,
   "id": "86f8bec9",
   "metadata": {},
   "outputs": [],
   "source": [
    "bg_BiIn_low_arr = np.random.uniform(1e-1, 1e9, int(bg_BiIn_low))\n",
    "bg_BiIn_mid_arr = np.random.uniform(1e-1, 1e9, int(bg_BiIn_mid))\n",
    "bg_BiIn_high_arr = np.random.uniform(1e-1, 1e9, int(bg_BiIn_high))"
   ]
  },
  {
   "cell_type": "code",
   "execution_count": 63,
   "id": "261c0f5b",
   "metadata": {},
   "outputs": [],
   "source": [
    "bg_BiIn_low_en = tof_to_energy(bg_BiIn_low_arr / 1e9, 182.3, 939.56542, 299792458) * 1e6\n",
    "bg_BiIn_mid_en = tof_to_energy(bg_BiIn_mid_arr / 1e9, 182.3, 939.56542, 299792458) * 1e6\n",
    "bg_BiIn_high_en = tof_to_energy(bg_BiIn_high_arr / 1e9, 182.3, 939.56542, 299792458) * 1e6"
   ]
  },
  {
   "cell_type": "code",
   "execution_count": 66,
   "id": "8da9ffb7",
   "metadata": {},
   "outputs": [],
   "source": [
    "logbins = np.logspace(-1, 9, 201)"
   ]
  },
  {
   "cell_type": "code",
   "execution_count": 73,
   "id": "382982b5",
   "metadata": {},
   "outputs": [
    {
     "data": {
      "image/png": "[encoded data removed]",
      "text/plain": [
       "<Figure size 432x288 with 1 Axes>"
      ]
     },
     "metadata": {
      "needs_background": "light"
     },
     "output_type": "display_data"
    }
   ],
   "source": [
    "hist_BiIn_high_bg , _, _= plt.hist(bg_BiIn_high_en, bins = logbins, range = (0, 1e9))\n",
    "plt.xscale('log')"
   ]
  },
  {
   "cell_type": "code",
   "execution_count": 75,
   "id": "fd3a98d2",
   "metadata": {},
   "outputs": [
    {
     "data": {
      "image/png": "[encoded data removed]",
      "text/plain": [
       "<Figure size 432x288 with 1 Axes>"
      ]
     },
     "metadata": {
      "needs_background": "light"
     },
     "output_type": "display_data"
    }
   ],
   "source": [
    "hist_BiIn_high_bg_linear , _, _ = plt.hist(bg_BiIn_high_en, bins = 50, range = (600, 1000))"
   ]
  },
  {
   "cell_type": "code",
   "execution_count": 76,
   "id": "d0551ecc",
   "metadata": {},
   "outputs": [
    {
     "data": {
      "image/png": "[encoded data removed]",
      "text/plain": [
       "<Figure size 720x720 with 1 Axes>"
      ]
     },
     "metadata": {
      "needs_background": "light"
     },
     "output_type": "display_data"
    }
   ],
   "source": [
    "plt.figure(figsize=(10,10))\n",
    "hist_BiIn, bins_BiIn, _ = plt.hist(en_BiIn_select, bins = 50, range = (600, 1000))\n",
    "hist_BiIn_high_bg_linear , _, _ = plt.hist(bg_BiIn_high_en, bins = 50, range = (600, 1000))"
   ]
  },
  {
   "cell_type": "code",
   "execution_count": 77,
   "id": "312f9fb1",
   "metadata": {},
   "outputs": [
    {
     "data": {
      "image/png": "[encoded data removed]",
      "text/plain": [
       "<Figure size 720x720 with 1 Axes>"
      ]
     },
     "metadata": {
      "needs_background": "light"
     },
     "output_type": "display_data"
    }
   ],
   "source": [
    "plt.figure(figsize=(10,10))\n",
    "hist_BiIn, bins_BiIn, _ = plt.hist(en_BiIn_select, bins = 50, range = (600, 1000))\n",
    "hist_BiIn_mid_bg_linear , _, _ = plt.hist(bg_BiIn_mid_en, bins = 50, range = (600, 1000))"
   ]
  },
  {
   "cell_type": "code",
   "execution_count": 78,
   "id": "896ecffe",
   "metadata": {},
   "outputs": [
    {
     "data": {
      "image/png": "[encoded data removed]",
      "text/plain": [
       "<Figure size 720x720 with 1 Axes>"
      ]
     },
     "metadata": {
      "needs_background": "light"
     },
     "output_type": "display_data"
    }
   ],
   "source": [
    "plt.figure(figsize=(10,10))\n",
    "hist_BiIn, bins_BiIn, _ = plt.hist(en_BiIn_select, bins = 50, range = (600, 1000))\n",
    "hist_BiIn_low_bg_linear , _, _ = plt.hist(bg_BiIn_low_en, bins = 50, range = (600, 1000))"
   ]
  },
  {
   "cell_type": "code",
   "execution_count": null,
   "id": "8d7f7eb9",
   "metadata": {},
   "outputs": [],
   "source": []
  }
 ],
 "metadata": {
  "kernelspec": {
   "display_name": "Python 3 (ipykernel)",
   "language": "python",
   "name": "python3"
  },
  "language_info": {
   "codemirror_mode": {
    "name": "ipython",
    "version": 3
   },
   "file_extension": ".py",
   "mimetype": "text/x-python",
   "name": "python",
   "nbconvert_exporter": "python",
   "pygments_lexer": "ipython3",
   "version": "3.9.12"
  }
 },
 "nbformat": 4,
 "nbformat_minor": 5
}
