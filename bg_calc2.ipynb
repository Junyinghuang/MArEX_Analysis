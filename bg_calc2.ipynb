{
 "cells": [
  {
   "cell_type": "code",
   "execution_count": 1,
   "id": "38d64520",
   "metadata": {},
   "outputs": [],
   "source": [
    "import numpy as np\n",
    "import uproot\n",
    "from matplotlib import pyplot as plt\n",
    "import matplotlib as mpl\n",
    "import h5py\n",
    "from scipy import optimize\n",
    "from src.process_data import process_data\n",
    "from src.graph import graph\n",
    "from src.transmission import transmission\n",
    "from src.smear import smear\n",
    "from src.select_tof import select_tof_ptbc, select_tof_fimg\n",
    "from utils import search_asc, search_desc, xsec_to_ts, tof_to_energy, energy_to_tof, chi_sq, tof_to_energy_dl"
   ]
  },
  {
   "cell_type": "code",
   "execution_count": 2,
   "id": "e8258316",
   "metadata": {},
   "outputs": [],
   "source": [
    "ArIn = h5py.File(\"temp_data/Ar.hdf5\", \"r\")\n",
    "ArOut = h5py.File(\"temp_data/bottle.hdf5\", \"r\")\n",
    "amp_ArIn = ArIn['amp'][:]\n",
    "en_ArIn = ArIn['energy'][:]\n",
    "tof_ArIn = ArIn['tof'][:]\n",
    "norm_ArIn = ArIn['norm'][0]\n",
    "detn_ArIn = ArIn['detn'][:]\n",
    "amp_ArOut = ArOut['amp'][:]\n",
    "en_ArOut = ArOut['energy'][:]\n",
    "tof_ArOut = ArOut['tof'][:]\n",
    "norm_ArOut = ArOut['norm'][0]\n",
    "detn_ArOut = ArOut['detn'][:]"
   ]
  },
  {
   "cell_type": "code",
   "execution_count": 3,
   "id": "d65aaf45",
   "metadata": {},
   "outputs": [],
   "source": [
    "tof_ArIn_select = select_tof_ptbc(tof_ArIn, detn_ArIn, amp_ArIn)\n",
    "tof_ArOut_select = select_tof_ptbc(tof_ArOut, detn_ArOut, amp_ArOut)"
   ]
  },
  {
   "cell_type": "code",
   "execution_count": 5,
   "id": "b92ea621",
   "metadata": {},
   "outputs": [],
   "source": [
    "en_ArIn_select = tof_to_energy(tof_ArIn_select / 1e9, 182.3, 939.56542, 299792458) * 1e6\n",
    "en_ArOut_select = tof_to_energy(tof_ArOut_select / 1e9, 182.3, 939.56542, 299792458) * 1e6"
   ]
  },
  {
   "cell_type": "code",
   "execution_count": 3,
   "id": "0a36a18f",
   "metadata": {},
   "outputs": [],
   "source": [
    "rf = uproot.open(\"data/RF.root\")"
   ]
  },
  {
   "cell_type": "code",
   "execution_count": 4,
   "id": "7fc5846f",
   "metadata": {},
   "outputs": [],
   "source": [
    "rfnp = rf['histfluka;1'].to_numpy()"
   ]
  },
  {
   "cell_type": "code",
   "execution_count": 5,
   "id": "09f74628",
   "metadata": {},
   "outputs": [
    {
     "data": {
      "text/plain": [
       "(array([[0., 0., 0., ..., 0., 0., 0.],\n",
       "        [0., 0., 0., ..., 0., 0., 0.],\n",
       "        [0., 0., 0., ..., 0., 0., 0.],\n",
       "        ...,\n",
       "        [0., 0., 0., ..., 0., 0., 0.],\n",
       "        [0., 0., 0., ..., 0., 0., 0.],\n",
       "        [0., 0., 0., ..., 0., 0., 0.]]),\n",
       " array([1.00000000e-03, 1.02329299e-03, 1.04712855e-03, ...,\n",
       "        9.54992586e+08, 9.77237221e+08, 1.00000000e+09]),\n",
       " array([-200., -199., -198., -197., -196., -195., -194., -193., -192.,\n",
       "        -191., -190., -189., -188., -187., -186., -185., -184., -183.,\n",
       "        -182., -181., -180., -179., -178., -177., -176., -175., -174.,\n",
       "        -173., -172., -171., -170., -169., -168., -167., -166., -165.,\n",
       "        -164., -163., -162., -161., -160., -159., -158., -157., -156.,\n",
       "        -155., -154., -153., -152., -151., -150., -149., -148., -147.,\n",
       "        -146., -145., -144., -143., -142., -141., -140., -139., -138.,\n",
       "        -137., -136., -135., -134., -133., -132., -131., -130., -129.,\n",
       "        -128., -127., -126., -125., -124., -123., -122., -121., -120.,\n",
       "        -119., -118., -117., -116., -115., -114., -113., -112., -111.,\n",
       "        -110., -109., -108., -107., -106., -105., -104., -103., -102.,\n",
       "        -101., -100.,  -99.,  -98.,  -97.,  -96.,  -95.,  -94.,  -93.,\n",
       "         -92.,  -91.,  -90.,  -89.,  -88.,  -87.,  -86.,  -85.,  -84.,\n",
       "         -83.,  -82.,  -81.,  -80.,  -79.,  -78.,  -77.,  -76.,  -75.,\n",
       "         -74.,  -73.,  -72.,  -71.,  -70.,  -69.,  -68.,  -67.,  -66.,\n",
       "         -65.,  -64.,  -63.,  -62.,  -61.,  -60.,  -59.,  -58.,  -57.,\n",
       "         -56.,  -55.,  -54.,  -53.,  -52.,  -51.,  -50.,  -49.,  -48.,\n",
       "         -47.,  -46.,  -45.,  -44.,  -43.,  -42.,  -41.,  -40.,  -39.,\n",
       "         -38.,  -37.,  -36.,  -35.,  -34.,  -33.,  -32.,  -31.,  -30.,\n",
       "         -29.,  -28.,  -27.,  -26.,  -25.,  -24.,  -23.,  -22.,  -21.,\n",
       "         -20.,  -19.,  -18.,  -17.,  -16.,  -15.,  -14.,  -13.,  -12.,\n",
       "         -11.,  -10.,   -9.,   -8.,   -7.,   -6.,   -5.,   -4.,   -3.,\n",
       "          -2.,   -1.,    0.,    1.,    2.,    3.,    4.,    5.,    6.,\n",
       "           7.,    8.,    9.,   10.,   11.,   12.,   13.,   14.,   15.,\n",
       "          16.,   17.,   18.,   19.,   20.,   21.,   22.,   23.,   24.,\n",
       "          25.,   26.,   27.,   28.,   29.,   30.,   31.,   32.,   33.,\n",
       "          34.,   35.,   36.,   37.,   38.,   39.,   40.,   41.,   42.,\n",
       "          43.,   44.,   45.,   46.,   47.,   48.,   49.,   50.,   51.,\n",
       "          52.,   53.,   54.,   55.,   56.,   57.,   58.,   59.,   60.,\n",
       "          61.,   62.,   63.,   64.,   65.,   66.,   67.,   68.,   69.,\n",
       "          70.,   71.,   72.,   73.,   74.,   75.,   76.,   77.,   78.,\n",
       "          79.,   80.,   81.,   82.,   83.,   84.,   85.,   86.,   87.,\n",
       "          88.,   89.,   90.,   91.,   92.,   93.,   94.,   95.,   96.,\n",
       "          97.,   98.,   99.,  100.,  101.,  102.,  103.,  104.,  105.,\n",
       "         106.,  107.,  108.,  109.,  110.,  111.,  112.,  113.,  114.,\n",
       "         115.,  116.,  117.,  118.,  119.,  120.,  121.,  122.,  123.,\n",
       "         124.,  125.,  126.,  127.,  128.,  129.,  130.,  131.,  132.,\n",
       "         133.,  134.,  135.,  136.,  137.,  138.,  139.,  140.,  141.,\n",
       "         142.,  143.,  144.,  145.,  146.,  147.,  148.,  149.,  150.,\n",
       "         151.,  152.,  153.,  154.,  155.,  156.,  157.,  158.,  159.,\n",
       "         160.,  161.,  162.,  163.,  164.,  165.,  166.,  167.,  168.,\n",
       "         169.,  170.,  171.,  172.,  173.,  174.,  175.,  176.,  177.,\n",
       "         178.,  179.,  180.,  181.,  182.,  183.,  184.,  185.,  186.,\n",
       "         187.,  188.,  189.,  190.,  191.,  192.,  193.,  194.,  195.,\n",
       "         196.,  197.,  198.,  199.,  200.,  201.,  202.,  203.,  204.,\n",
       "         205.,  206.,  207.,  208.,  209.,  210.,  211.,  212.,  213.,\n",
       "         214.,  215.,  216.,  217.,  218.,  219.,  220.,  221.,  222.,\n",
       "         223.,  224.,  225.,  226.,  227.,  228.,  229.,  230.,  231.,\n",
       "         232.,  233.,  234.,  235.,  236.,  237.,  238.,  239.,  240.,\n",
       "         241.,  242.,  243.,  244.,  245.,  246.,  247.,  248.,  249.,\n",
       "         250.,  251.,  252.,  253.,  254.,  255.,  256.,  257.,  258.,\n",
       "         259.,  260.,  261.,  262.,  263.,  264.,  265.,  266.,  267.,\n",
       "         268.,  269.,  270.,  271.,  272.,  273.,  274.,  275.,  276.,\n",
       "         277.,  278.,  279.,  280.,  281.,  282.,  283.,  284.,  285.,\n",
       "         286.,  287.,  288.,  289.,  290.,  291.,  292.,  293.,  294.,\n",
       "         295.,  296.,  297.,  298.,  299.,  300.,  301.,  302.,  303.,\n",
       "         304.,  305.,  306.,  307.,  308.,  309.,  310.,  311.,  312.,\n",
       "         313.,  314.,  315.,  316.,  317.,  318.,  319.,  320.,  321.,\n",
       "         322.,  323.,  324.,  325.,  326.,  327.,  328.,  329.,  330.,\n",
       "         331.,  332.,  333.,  334.,  335.,  336.,  337.,  338.,  339.,\n",
       "         340.,  341.,  342.,  343.,  344.,  345.,  346.,  347.,  348.,\n",
       "         349.,  350.,  351.,  352.,  353.,  354.,  355.,  356.,  357.,\n",
       "         358.,  359.,  360.,  361.,  362.,  363.,  364.,  365.,  366.,\n",
       "         367.,  368.,  369.,  370.,  371.,  372.,  373.,  374.,  375.,\n",
       "         376.,  377.,  378.,  379.,  380.,  381.,  382.,  383.,  384.,\n",
       "         385.,  386.,  387.,  388.,  389.,  390.,  391.,  392.,  393.,\n",
       "         394.,  395.,  396.,  397.,  398.,  399.,  400.,  401.,  402.,\n",
       "         403.,  404.,  405.,  406.,  407.,  408.,  409.,  410.,  411.,\n",
       "         412.,  413.,  414.,  415.,  416.,  417.,  418.,  419.,  420.,\n",
       "         421.,  422.,  423.,  424.,  425.,  426.,  427.,  428.,  429.,\n",
       "         430.,  431.,  432.,  433.,  434.,  435.,  436.,  437.,  438.,\n",
       "         439.,  440.,  441.,  442.,  443.,  444.,  445.,  446.,  447.,\n",
       "         448.,  449.,  450.,  451.,  452.,  453.,  454.,  455.,  456.,\n",
       "         457.,  458.,  459.,  460.,  461.,  462.,  463.,  464.,  465.,\n",
       "         466.,  467.,  468.,  469.,  470.,  471.,  472.,  473.,  474.,\n",
       "         475.,  476.,  477.,  478.,  479.,  480.,  481.,  482.,  483.,\n",
       "         484.,  485.,  486.,  487.,  488.,  489.,  490.,  491.,  492.,\n",
       "         493.,  494.,  495.,  496.,  497.,  498.,  499.,  500.,  501.,\n",
       "         502.,  503.,  504.,  505.,  506.,  507.,  508.,  509.,  510.,\n",
       "         511.,  512.,  513.,  514.,  515.,  516.,  517.,  518.,  519.,\n",
       "         520.,  521.,  522.,  523.,  524.,  525.,  526.,  527.,  528.,\n",
       "         529.,  530.,  531.,  532.,  533.,  534.,  535.,  536.,  537.,\n",
       "         538.,  539.,  540.,  541.,  542.,  543.,  544.,  545.,  546.,\n",
       "         547.,  548.,  549.,  550.,  551.,  552.,  553.,  554.,  555.,\n",
       "         556.,  557.,  558.,  559.,  560.,  561.,  562.,  563.,  564.,\n",
       "         565.,  566.,  567.,  568.,  569.,  570.,  571.,  572.,  573.,\n",
       "         574.,  575.,  576.,  577.,  578.,  579.,  580.,  581.,  582.,\n",
       "         583.,  584.,  585.,  586.,  587.,  588.,  589.,  590.,  591.,\n",
       "         592.,  593.,  594.,  595.,  596.,  597.,  598.,  599.,  600.,\n",
       "         601.,  602.,  603.,  604.,  605.,  606.,  607.,  608.,  609.,\n",
       "         610.,  611.,  612.,  613.,  614.,  615.,  616.,  617.,  618.,\n",
       "         619.,  620.,  621.,  622.,  623.,  624.,  625.,  626.,  627.,\n",
       "         628.,  629.,  630.,  631.,  632.,  633.,  634.,  635.,  636.,\n",
       "         637.,  638.,  639.,  640.,  641.,  642.,  643.,  644.,  645.,\n",
       "         646.,  647.,  648.,  649.,  650.,  651.,  652.,  653.,  654.,\n",
       "         655.,  656.,  657.,  658.,  659.,  660.,  661.,  662.,  663.,\n",
       "         664.,  665.,  666.,  667.,  668.,  669.,  670.,  671.,  672.,\n",
       "         673.,  674.,  675.,  676.,  677.,  678.,  679.,  680.,  681.,\n",
       "         682.,  683.,  684.,  685.,  686.,  687.,  688.,  689.,  690.,\n",
       "         691.,  692.,  693.,  694.,  695.,  696.,  697.,  698.,  699.,\n",
       "         700.]))"
      ]
     },
     "execution_count": 5,
     "metadata": {},
     "output_type": "execute_result"
    }
   ],
   "source": [
    "rfnp"
   ]
  },
  {
   "cell_type": "code",
   "execution_count": 70,
   "id": "ee3b7bb2",
   "metadata": {},
   "outputs": [],
   "source": [
    "tot = np.zeros(900)"
   ]
  },
  {
   "cell_type": "code",
   "execution_count": 72,
   "id": "689b5270",
   "metadata": {},
   "outputs": [],
   "source": [
    "for i in range(1200):\n",
    "    tot += rfnp[0][i]"
   ]
  },
  {
   "cell_type": "code",
   "execution_count": 77,
   "id": "e2f4a544",
   "metadata": {},
   "outputs": [],
   "source": [
    "average = tot / 1200"
   ]
  },
  {
   "cell_type": "code",
   "execution_count": 78,
   "id": "d25a36b3",
   "metadata": {},
   "outputs": [],
   "source": [
    "mean_dl = np.average((rfnp[2][1:] + rfnp[2][:-1])/ 2, axis = 0, weights = average)/100"
   ]
  },
  {
   "cell_type": "code",
   "execution_count": 79,
   "id": "c35175ff",
   "metadata": {},
   "outputs": [],
   "source": [
    "sig_dl = np.sqrt(np.cov((rfnp[2][1:] + rfnp[2][:-1])/ 2, aweights= average))/100"
   ]
  },
  {
   "cell_type": "code",
   "execution_count": 80,
   "id": "7039f6d1",
   "metadata": {},
   "outputs": [
    {
     "name": "stdout",
     "output_type": "stream",
     "text": [
      "0.45170832546978906 0.42282161598809076\n"
     ]
    }
   ],
   "source": [
    "print(mean_dl, sig_dl)"
   ]
  },
  {
   "cell_type": "code",
   "execution_count": 63,
   "id": "1558fa92",
   "metadata": {},
   "outputs": [],
   "source": [
    "dl_avg = []\n",
    "dl_sig = []"
   ]
  },
  {
   "cell_type": "code",
   "execution_count": 85,
   "id": "0bb0a16b",
   "metadata": {},
   "outputs": [],
   "source": [
    "for arr in rfnp[0]:\n",
    "    s = sum(arr)\n",
    "    if s == 0:\n",
    "        dl_avg.append(0)\n",
    "        dl_sig.append(0)\n",
    "        continue\n",
    "    dl_avg.append(np.average((rfnp[2][1:] + rfnp[2][:-1])/ 2, axis = 0, weights = arr)/100)\n",
    "    dl_sig.append(np.sqrt(np.cov((rfnp[2][1:] + rfnp[2][:-1])/ 2, aweights= arr))/100)"
   ]
  },
  {
   "cell_type": "code",
   "execution_count": 89,
   "id": "486022ff",
   "metadata": {},
   "outputs": [],
   "source": [
    "f = h5py.File(\"data/rf_avg.h5py\", \"w\")"
   ]
  },
  {
   "cell_type": "code",
   "execution_count": 90,
   "id": "27fbe688",
   "metadata": {},
   "outputs": [
    {
     "data": {
      "text/plain": [
       "<HDF5 dataset \"dl_sig\": shape (3598,), type \"<f8\">"
      ]
     },
     "execution_count": 90,
     "metadata": {},
     "output_type": "execute_result"
    }
   ],
   "source": [
    "f.create_dataset(\"dl_avg\", data=dl_avg)\n",
    "f.create_dataset(\"dl_sig\", data=dl_sig)"
   ]
  },
  {
   "cell_type": "code",
   "execution_count": 91,
   "id": "ac9811d2",
   "metadata": {},
   "outputs": [],
   "source": [
    "f.close()"
   ]
  },
  {
   "cell_type": "code",
   "execution_count": 6,
   "id": "0636a117",
   "metadata": {},
   "outputs": [
    {
     "data": {
      "text/plain": [
       "array([1.00000000e-03, 1.02329299e-03, 1.04712855e-03, ...,\n",
       "       9.54992586e+08, 9.77237221e+08, 1.00000000e+09])"
      ]
     },
     "execution_count": 6,
     "metadata": {},
     "output_type": "execute_result"
    }
   ],
   "source": [
    "rfnp[1]"
   ]
  },
  {
   "cell_type": "code",
   "execution_count": 17,
   "id": "b93c19a4",
   "metadata": {},
   "outputs": [
    {
     "data": {
      "text/plain": [
       "1201"
      ]
     },
     "execution_count": 17,
     "metadata": {},
     "output_type": "execute_result"
    }
   ],
   "source": [
    "len(rfnp[1])"
   ]
  },
  {
   "cell_type": "code",
   "execution_count": 18,
   "id": "ec56f939",
   "metadata": {},
   "outputs": [
    {
     "data": {
      "text/plain": [
       "1200"
      ]
     },
     "execution_count": 18,
     "metadata": {},
     "output_type": "execute_result"
    }
   ],
   "source": [
    "len(rfnp[0])"
   ]
  },
  {
   "cell_type": "code",
   "execution_count": 65,
   "id": "3f41addc",
   "metadata": {},
   "outputs": [
    {
     "data": {
      "text/plain": [
       "1000000000.0"
      ]
     },
     "execution_count": 65,
     "metadata": {},
     "output_type": "execute_result"
    }
   ],
   "source": [
    "rfnp[1][1200]"
   ]
  },
  {
   "cell_type": "code",
   "execution_count": 7,
   "id": "fdaa4855",
   "metadata": {},
   "outputs": [
    {
     "ename": "TypeError",
     "evalue": "only size-1 arrays can be converted to Python scalars",
     "output_type": "error",
     "traceback": [
      "\u001b[0;31m---------------------------------------------------------------------------\u001b[0m",
      "\u001b[0;31mTypeError\u001b[0m                                 Traceback (most recent call last)",
      "Input \u001b[0;32mIn [7]\u001b[0m, in \u001b[0;36m<cell line: 1>\u001b[0;34m()\u001b[0m\n\u001b[0;32m----> 1\u001b[0m \u001b[38;5;28;43mint\u001b[39;49m\u001b[43m(\u001b[49m\u001b[43m(\u001b[49m\u001b[43mnp\u001b[49m\u001b[38;5;241;43m.\u001b[39;49m\u001b[43mlog10\u001b[49m\u001b[43m(\u001b[49m\u001b[43mnp\u001b[49m\u001b[38;5;241;43m.\u001b[39;49m\u001b[43marray\u001b[49m\u001b[43m(\u001b[49m\u001b[43m[\u001b[49m\u001b[38;5;241;43m1\u001b[39;49m\u001b[43m,\u001b[49m\u001b[38;5;241;43m1\u001b[39;49m\u001b[43m]\u001b[49m\u001b[43m)\u001b[49m\u001b[43m)\u001b[49m\u001b[43m \u001b[49m\u001b[38;5;241;43m+\u001b[39;49m\u001b[43m \u001b[49m\u001b[38;5;241;43m3\u001b[39;49m\u001b[43m)\u001b[49m\u001b[43m \u001b[49m\u001b[38;5;241;43m*\u001b[39;49m\u001b[43m \u001b[49m\u001b[38;5;241;43m100\u001b[39;49m\u001b[43m)\u001b[49m\n",
      "\u001b[0;31mTypeError\u001b[0m: only size-1 arrays can be converted to Python scalars"
     ]
    }
   ],
   "source": [
    "int((np.log10(np.array([1,1])) + 3) * 100)"
   ]
  },
  {
   "cell_type": "code",
   "execution_count": 15,
   "id": "6e884734",
   "metadata": {},
   "outputs": [],
   "source": [
    "en_ArIn_select_short = tof_to_energy(tof_ArIn_select / 1e9, 182.3 + mean_dl - sig_dl, 939.56542, 299792458) * 1e6\n",
    "en_ArOut_select_short = tof_to_energy(tof_ArOut_select / 1e9, 182.3 + mean_dl - sig_dl, 939.56542, 299792458) * 1e6\n",
    "en_ArIn_select_avg = tof_to_energy(tof_ArIn_select / 1e9, 182.3 + mean_dl, 939.56542, 299792458) * 1e6\n",
    "en_ArOut_select_avg = tof_to_energy(tof_ArOut_select / 1e9, 182.3 + mean_dl, 939.56542, 299792458) * 1e6\n",
    "en_ArIn_select_long = tof_to_energy(tof_ArIn_select / 1e9, 182.3 + mean_dl + sig_dl, 939.56542, 299792458) * 1e6\n",
    "en_ArOut_select_long = tof_to_energy(tof_ArOut_select / 1e9, 182.3 + mean_dl + sig_dl, 939.56542, 299792458) * 1e6"
   ]
  },
  {
   "cell_type": "code",
   "execution_count": 6,
   "id": "e973cbd0",
   "metadata": {},
   "outputs": [],
   "source": [
    "en_ArIn_select_avg, en_ArIn_select_short, en_ArIn_select_long = tof_to_energy_dl(tof_ArIn_select / 1e9, 182.3, 939.56542, 299792458)\n",
    "en_ArOut_select_avg, en_ArOut_select_short, en_ArOut_select_long = tof_to_energy_dl(tof_ArOut_select / 1e9, 182.3, 939.56542, 299792458)\n",
    "en_ArIn_select_avg *= 1e6\n",
    "en_ArIn_select_short *= 1e6\n",
    "en_ArIn_select_long *= 1e6\n",
    "en_ArOut_select_avg *= 1e6\n",
    "en_ArOut_select_short *= 1e6\n",
    "en_ArOut_select_long *= 1e6"
   ]
  },
  {
   "cell_type": "code",
   "execution_count": 7,
   "id": "5da52555",
   "metadata": {},
   "outputs": [],
   "source": [
    "logbins = np.logspace(-1, 9, 201)"
   ]
  },
  {
   "cell_type": "code",
   "execution_count": 8,
   "id": "9e0f1319",
   "metadata": {},
   "outputs": [
    {
     "data": {
      "image/png": "[encoded data removed]",
      "text/plain": [
       "<Figure size 432x288 with 1 Axes>"
      ]
     },
     "metadata": {
      "needs_background": "light"
     },
     "output_type": "display_data"
    }
   ],
   "source": [
    "hist_ArIn_short, bins_ArIn_short, _ = plt.hist(en_ArIn_select_short, bins = logbins, range = (0, 1e9))\n",
    "hist_ArIn_avg, bins_ArIn_avg, _ = plt.hist(en_ArIn_select_avg, bins = logbins, range = (0, 1e9))\n",
    "hist_ArIn_long, bins_ArIn_long, _ = plt.hist(en_ArIn_select_long, bins = logbins, range = (0, 1e9))\n",
    "plt.xscale('log')"
   ]
  },
  {
   "cell_type": "code",
   "execution_count": 9,
   "id": "ffd8020b",
   "metadata": {},
   "outputs": [
    {
     "data": {
      "image/png": "[encoded data removed]",
      "text/plain": [
       "<Figure size 432x288 with 1 Axes>"
      ]
     },
     "metadata": {
      "needs_background": "light"
     },
     "output_type": "display_data"
    }
   ],
   "source": [
    "hist_ArOut_short, bins_ArOut_short, _ = plt.hist(en_ArOut_select_short, bins = logbins, range = (0, 1e9))\n",
    "hist_ArOut_avg, bins_ArOut_avg, _ = plt.hist(en_ArOut_select_avg, bins = logbins, range = (0, 1e9))\n",
    "hist_ArOut_long, bins_ArOut_long, _ = plt.hist(en_ArOut_select_long, bins = logbins, range = (0, 1e9))\n",
    "plt.xscale('log')"
   ]
  },
  {
   "cell_type": "code",
   "execution_count": 10,
   "id": "ce12e7ea",
   "metadata": {},
   "outputs": [],
   "source": [
    "error_ArIn_short = np.sqrt(hist_ArIn_short)\n",
    "error_ArIn_avg = np.sqrt(hist_ArIn_avg)\n",
    "error_ArIn_long = np.sqrt(hist_ArIn_long)\n",
    "error_ArOut_short = np.sqrt(hist_ArOut_short)\n",
    "error_ArOut_avg = np.sqrt(hist_ArOut_avg)\n",
    "error_ArOut_long = np.sqrt(hist_ArOut_long)\n",
    "x_en = (bins_ArIn_avg[1:] + bins_ArIn_avg[:-1]) / 2"
   ]
  },
  {
   "cell_type": "code",
   "execution_count": 11,
   "id": "7d48bcd1",
   "metadata": {},
   "outputs": [],
   "source": [
    "tr_short, tr_error_short = transmission(hist_ArIn_short / norm_ArIn, error_ArIn_short / norm_ArIn, hist_ArOut_short / norm_ArOut, np.sqrt(hist_ArOut_short) / norm_ArOut)\n",
    "tr_avg, tr_error_avg = transmission(hist_ArIn_avg / norm_ArIn, error_ArIn_avg / norm_ArIn, hist_ArOut_avg / norm_ArOut, np.sqrt(hist_ArOut_avg) / norm_ArOut)\n",
    "tr_long, tr_error_long = transmission(hist_ArIn_long / norm_ArIn, error_ArIn_long / norm_ArIn, hist_ArOut_long / norm_ArOut, np.sqrt(hist_ArOut_long) / norm_ArOut)"
   ]
  },
  {
   "cell_type": "code",
   "execution_count": 12,
   "id": "b8bdbae6",
   "metadata": {},
   "outputs": [
    {
     "data": {
      "image/png": "[encoded data removed]",
      "text/plain": [
       "<Figure size 1440x360 with 1 Axes>"
      ]
     },
     "metadata": {
      "needs_background": "light"
     },
     "output_type": "display_data"
    }
   ],
   "source": [
    "plt.figure(figsize=(20,5))\n",
    "plt.errorbar(x_en, tr_short, fmt=\"p\")\n",
    "plt.errorbar(x_en, tr_avg, fmt=\"p\")\n",
    "plt.errorbar(x_en, tr_long, fmt=\"p\")\n",
    "plt.xscale('log')\n",
    "plt.grid()"
   ]
  },
  {
   "cell_type": "code",
   "execution_count": 13,
   "id": "dbe2bce6",
   "metadata": {},
   "outputs": [
    {
     "data": {
      "image/png": "[encoded data removed]",
      "text/plain": [
       "<Figure size 1440x360 with 1 Axes>"
      ]
     },
     "metadata": {
      "needs_background": "light"
     },
     "output_type": "display_data"
    }
   ],
   "source": [
    "plt.figure(figsize=(20,5))\n",
    "plt.errorbar(x_en, tr_avg, fmt=\"p\")\n",
    "plt.fill_between(x_en, tr_short, tr_long)\n",
    "plt.xscale('log')\n",
    "plt.grid()"
   ]
  },
  {
   "cell_type": "code",
   "execution_count": 14,
   "id": "621659bc",
   "metadata": {},
   "outputs": [],
   "source": [
    "tr_error_sys_up = abs(tr_long - tr_avg)\n",
    "tr_error_sys_down = abs(tr_avg - tr_short)"
   ]
  },
  {
   "cell_type": "code",
   "execution_count": 24,
   "id": "b40e998a",
   "metadata": {},
   "outputs": [
    {
     "data": {
      "image/png": "[encoded data removed]",
      "text/plain": [
       "<Figure size 1440x360 with 1 Axes>"
      ]
     },
     "metadata": {
      "needs_background": "light"
     },
     "output_type": "display_data"
    }
   ],
   "source": [
    "plt.figure(figsize=(20,5))\n",
    "plt.errorbar(x_en, tr_avg, yerr=[tr_error_sys_down,tr_error_sys_up], fmt=\"p\")\n",
    "plt.xscale('log')\n",
    "plt.grid()"
   ]
  },
  {
   "cell_type": "code",
   "execution_count": 25,
   "id": "cf4defb5",
   "metadata": {},
   "outputs": [
    {
     "data": {
      "image/png": "[encoded data removed]",
      "text/plain": [
       "<Figure size 1440x360 with 1 Axes>"
      ]
     },
     "metadata": {
      "needs_background": "light"
     },
     "output_type": "display_data"
    }
   ],
   "source": [
    "plt.figure(figsize=(20,5))\n",
    "plt.errorbar(x_en, tr_avg, yerr=tr_error_avg, fmt=\"p\")\n",
    "plt.xscale('log')\n",
    "plt.grid()"
   ]
  },
  {
   "cell_type": "code",
   "execution_count": 156,
   "id": "b98c862e",
   "metadata": {},
   "outputs": [],
   "source": [
    "f = open(\"endf/Al.txt\")\n",
    "energy = []\n",
    "crs = []\n",
    "for line in f:\n",
    "    energy.append(float(line[3:14]))\n",
    "    crs.append(float(line[16:27]))\n",
    "energy = np.array(energy) * 1e6\n",
    "crs = np.array(crs)"
   ]
  },
  {
   "cell_type": "code",
   "execution_count": 27,
   "id": "f8ea06cc",
   "metadata": {},
   "outputs": [
    {
     "data": {
      "text/plain": [
       "5011.872336272725"
      ]
     },
     "execution_count": 27,
     "metadata": {},
     "output_type": "execute_result"
    }
   ],
   "source": [
    "rfnp[1][670]"
   ]
  },
  {
   "cell_type": "code",
   "execution_count": 28,
   "id": "4ebc0f92",
   "metadata": {},
   "outputs": [
    {
     "data": {
      "text/plain": [
       "7079.457843841388"
      ]
     },
     "execution_count": 28,
     "metadata": {},
     "output_type": "execute_result"
    }
   ],
   "source": [
    "rfnp[1][685]"
   ]
  },
  {
   "cell_type": "code",
   "execution_count": 29,
   "id": "536890cf",
   "metadata": {},
   "outputs": [],
   "source": [
    "tot = np.zeros(900)"
   ]
  },
  {
   "cell_type": "code",
   "execution_count": 30,
   "id": "1bd085ce",
   "metadata": {},
   "outputs": [],
   "source": [
    "for i in range(670, 686):\n",
    "    tot += rfnp[0][i]"
   ]
  },
  {
   "cell_type": "code",
   "execution_count": 31,
   "id": "50668724",
   "metadata": {},
   "outputs": [],
   "source": [
    "average = tot / 15"
   ]
  },
  {
   "cell_type": "code",
   "execution_count": 32,
   "id": "15c6e3c1",
   "metadata": {},
   "outputs": [],
   "source": [
    "mean_dl = np.average((rfnp[2][1:] + rfnp[2][:-1])/ 2, axis = 0, weights = average)/100"
   ]
  },
  {
   "cell_type": "code",
   "execution_count": 33,
   "id": "345c88e3",
   "metadata": {},
   "outputs": [],
   "source": [
    "sig_dl = np.sqrt(np.cov((rfnp[2][1:] + rfnp[2][:-1])/ 2, aweights= average))/100"
   ]
  },
  {
   "cell_type": "code",
   "execution_count": 34,
   "id": "07081726",
   "metadata": {},
   "outputs": [
    {
     "name": "stdout",
     "output_type": "stream",
     "text": [
      "0.2914282056211275 0.36507441111770844\n"
     ]
    }
   ],
   "source": [
    "print(mean_dl, sig_dl)"
   ]
  },
  {
   "cell_type": "code",
   "execution_count": 157,
   "id": "9a314cc4",
   "metadata": {},
   "outputs": [],
   "source": [
    "tof = energy_to_tof(energy/1e6, 182.3, 939.56542, 299792458) * 1e9\n",
    "ts = xsec_to_ts(crs * 1e-28, 2710, 0.05, 4.48e-26)"
   ]
  },
  {
   "cell_type": "code",
   "execution_count": 158,
   "id": "003647aa",
   "metadata": {},
   "outputs": [],
   "source": [
    "tof = tof[::-1]\n",
    "ts = ts[::-1]"
   ]
  },
  {
   "cell_type": "code",
   "execution_count": 159,
   "id": "b56c8033",
   "metadata": {},
   "outputs": [
    {
     "data": {
      "image/png": "[encoded data removed]",
      "text/plain": [
       "<Figure size 720x720 with 1 Axes>"
      ]
     },
     "metadata": {
      "needs_background": "light"
     },
     "output_type": "display_data"
    }
   ],
   "source": [
    "plt.figure(figsize=(10,10))\n",
    "plt.plot(tof, ts)\n",
    "plt.xscale('log')\n",
    "plt.yscale('log')"
   ]
  },
  {
   "cell_type": "code",
   "execution_count": 38,
   "id": "67ceaec9",
   "metadata": {},
   "outputs": [],
   "source": [
    "left = search_asc(tof, 68000)\n",
    "right = search_asc(tof, 72000)"
   ]
  },
  {
   "cell_type": "code",
   "execution_count": 39,
   "id": "e0e17b0a",
   "metadata": {},
   "outputs": [
    {
     "data": {
      "text/plain": [
       "8728"
      ]
     },
     "execution_count": 39,
     "metadata": {},
     "output_type": "execute_result"
    }
   ],
   "source": [
    "left"
   ]
  },
  {
   "cell_type": "code",
   "execution_count": 40,
   "id": "dc612b36",
   "metadata": {},
   "outputs": [
    {
     "data": {
      "text/plain": [
       "8779"
      ]
     },
     "execution_count": 40,
     "metadata": {},
     "output_type": "execute_result"
    }
   ],
   "source": [
    "right"
   ]
  },
  {
   "cell_type": "code",
   "execution_count": 41,
   "id": "61293a66",
   "metadata": {},
   "outputs": [
    {
     "data": {
      "text/plain": [
       "[<matplotlib.lines.Line2D at 0x7fb75a5e6730>]"
      ]
     },
     "execution_count": 41,
     "metadata": {},
     "output_type": "execute_result"
    },
    {
     "data": {
      "image/png": "[encoded data removed]",
      "text/plain": [
       "<Figure size 720x720 with 1 Axes>"
      ]
     },
     "metadata": {
      "needs_background": "light"
     },
     "output_type": "display_data"
    }
   ],
   "source": [
    "plt.figure(figsize=(10,10))\n",
    "plt.plot(tof[left:right], ts[left:right])"
   ]
  },
  {
   "cell_type": "code",
   "execution_count": 42,
   "id": "25c3ad55",
   "metadata": {},
   "outputs": [],
   "source": [
    "cur_ts = ts[left]\n",
    "while(cur_ts > 0.0001):\n",
    "    left += 1\n",
    "    cur_ts = ts[left]"
   ]
  },
  {
   "cell_type": "code",
   "execution_count": 43,
   "id": "5c59e064",
   "metadata": {},
   "outputs": [
    {
     "data": {
      "text/plain": [
       "8750"
      ]
     },
     "execution_count": 43,
     "metadata": {},
     "output_type": "execute_result"
    }
   ],
   "source": [
    "left"
   ]
  },
  {
   "cell_type": "code",
   "execution_count": 44,
   "id": "2eff8f3a",
   "metadata": {},
   "outputs": [],
   "source": [
    "cur_ts = ts[right]\n",
    "while(cur_ts > 0.0001):\n",
    "    right -= 1\n",
    "    cur_ts = ts[right]"
   ]
  },
  {
   "cell_type": "code",
   "execution_count": 45,
   "id": "502911bb",
   "metadata": {},
   "outputs": [
    {
     "data": {
      "text/plain": [
       "8766"
      ]
     },
     "execution_count": 45,
     "metadata": {},
     "output_type": "execute_result"
    }
   ],
   "source": [
    "right"
   ]
  },
  {
   "cell_type": "code",
   "execution_count": 46,
   "id": "baca99d6",
   "metadata": {},
   "outputs": [
    {
     "data": {
      "text/plain": [
       "[<matplotlib.lines.Line2D at 0x7fb75a87b550>]"
      ]
     },
     "execution_count": 46,
     "metadata": {},
     "output_type": "execute_result"
    },
    {
     "data": {
      "image/png": "[encoded data removed]",
      "text/plain": [
       "<Figure size 720x720 with 1 Axes>"
      ]
     },
     "metadata": {
      "needs_background": "light"
     },
     "output_type": "display_data"
    }
   ],
   "source": [
    "plt.figure(figsize=(10,10))\n",
    "plt.plot(tof[left:right], ts[left:right])"
   ]
  },
  {
   "cell_type": "code",
   "execution_count": 47,
   "id": "9e33ad39",
   "metadata": {},
   "outputs": [
    {
     "data": {
      "text/plain": [
       "69857.55983054312"
      ]
     },
     "execution_count": 47,
     "metadata": {},
     "output_type": "execute_result"
    }
   ],
   "source": [
    "tof[left]"
   ]
  },
  {
   "cell_type": "code",
   "execution_count": 48,
   "id": "9788765f",
   "metadata": {},
   "outputs": [
    {
     "data": {
      "text/plain": [
       "70865.09258836188"
      ]
     },
     "execution_count": 48,
     "metadata": {},
     "output_type": "execute_result"
    }
   ],
   "source": [
    "tof[right]"
   ]
  },
  {
   "cell_type": "code",
   "execution_count": 49,
   "id": "4e0a039f",
   "metadata": {},
   "outputs": [
    {
     "data": {
      "text/plain": [
       "1007.5327578187571"
      ]
     },
     "execution_count": 49,
     "metadata": {},
     "output_type": "execute_result"
    }
   ],
   "source": [
    "tof[right] - tof[left]"
   ]
  },
  {
   "cell_type": "code",
   "execution_count": 91,
   "id": "4fd20eb8",
   "metadata": {},
   "outputs": [],
   "source": [
    "import math"
   ]
  },
  {
   "cell_type": "code",
   "execution_count": 92,
   "id": "2993fb45",
   "metadata": {},
   "outputs": [],
   "source": [
    "def poisson(k, mu):\n",
    "    return mu**k * np.exp(-mu) / math.factorial(k)"
   ]
  },
  {
   "cell_type": "code",
   "execution_count": 93,
   "id": "c3da1705",
   "metadata": {},
   "outputs": [
    {
     "data": {
      "text/plain": [
       "0.15865"
      ]
     },
     "execution_count": 93,
     "metadata": {},
     "output_type": "execute_result"
    }
   ],
   "source": [
    "0.3173/2"
   ]
  },
  {
   "cell_type": "code",
   "execution_count": 103,
   "id": "d0ef8b43",
   "metadata": {},
   "outputs": [],
   "source": [
    "def upper_sum(mu):\n",
    "    return poisson(0, mu) + poisson(1, mu)"
   ]
  },
  {
   "cell_type": "code",
   "execution_count": 106,
   "id": "4ba86f31",
   "metadata": {
    "collapsed": true
   },
   "outputs": [
    {
     "name": "stdout",
     "output_type": "stream",
     "text": [
      "3.0 0.19914827347145578\n",
      "3.01 0.1976596318294533\n",
      "3.02 0.1961808978152921\n",
      "3.03 0.19471202164805318\n",
      "3.04 0.1932529535565614\n",
      "3.05 0.19180364378412074\n",
      "3.06 0.19036404259315326\n",
      "3.07 0.18893410026974528\n",
      "3.08 0.18751376712810036\n",
      "3.09 0.18610299351490223\n",
      "3.1 0.18470172981358698\n",
      "3.11 0.18330992644852834\n",
      "3.12 0.1819275338891346\n",
      "3.13 0.1805545026538614\n",
      "3.14 0.17919078331413882\n",
      "3.15 0.17783632649821676\n",
      "3.16 0.17649108289492738\n",
      "3.17 0.17515500325736794\n",
      "3.18 0.17382803840650382\n",
      "3.19 0.17251013923469383\n",
      "3.2 0.1712012567091381\n",
      "3.21 0.16990134187525113\n",
      "3.22 0.16861034585995946\n",
      "3.23 0.1673282198749266\n",
      "3.24 0.16605491521970517\n",
      "3.25 0.16479038328481854\n",
      "3.26 0.16353457555477185\n",
      "3.27 0.16228744361099431\n",
      "3.2800000000000002 0.16104893913471413\n",
      "3.29 0.15981901390976583\n",
      "3.3 0.15859761982533205\n",
      "3.31 0.15738470887862113\n",
      "3.32 0.15618023317748056\n",
      "3.33 0.15498414494294743\n",
      "3.34 0.1537963965117381\n",
      "3.35 0.15261694033867584\n",
      "3.36 0.15144572899906014\n",
      "3.37 0.15028271519097575\n",
      "3.38 0.14912785173754511\n",
      "3.39 0.14798109158912282\n",
      "3.4 0.14684238782543474\n",
      "3.41 0.14571169365766137\n",
      "3.42 0.1445889624304676\n",
      "3.43 0.1434741476239782\n",
      "3.44 0.1423672028557018\n",
      "3.45 0.14126808188240234\n",
      "3.46 0.14017673860191998\n",
      "3.47 0.13909312705494203\n",
      "3.48 0.13801720142672483\n",
      "3.49 0.13694891604876652\n",
      "3.5 0.13588822540043324\n"
     ]
    }
   ],
   "source": [
    "for i in np.linspace(3,3.5,51):\n",
    "    print(str(i) + \" \" + str(upper_sum(i)))\n",
    "#3.3 0.15859761982533205"
   ]
  },
  {
   "cell_type": "code",
   "execution_count": 108,
   "id": "aa87fdae",
   "metadata": {},
   "outputs": [],
   "source": [
    "def lower_sum(mu):\n",
    "    return 1 - poisson(0, mu)"
   ]
  },
  {
   "cell_type": "code",
   "execution_count": 112,
   "id": "29515db6",
   "metadata": {
    "collapsed": true
   },
   "outputs": [
    {
     "name": "stdout",
     "output_type": "stream",
     "text": [
      "0.1 0.09516258196404048\n",
      "0.101 0.09606696711413587\n",
      "0.10200000000000001 0.09697044833112323\n",
      "0.10300000000000001 0.09787302651848351\n",
      "0.10400000000000001 0.09877470257879528\n",
      "0.10500000000000001 0.09967547741373439\n",
      "0.10600000000000001 0.10057535192407596\n",
      "0.10700000000000001 0.1014743270096945\n",
      "0.10800000000000001 0.10237240356956512\n",
      "0.10900000000000001 0.10326958250176455\n",
      "0.11 0.10416586470347178\n",
      "0.111 0.10506125107096898\n",
      "0.112 0.10595574249964279\n",
      "0.113 0.10684933988398448\n",
      "0.114 0.1077420441175917\n",
      "0.115 0.10863385609316867\n",
      "0.116 0.10952477670252736\n",
      "0.117 0.11041480683658866\n",
      "0.11800000000000001 0.11130394738538263\n",
      "0.11900000000000001 0.1121921992380499\n",
      "0.12000000000000001 0.11307956328284252\n",
      "0.12100000000000001 0.11396604040712444\n",
      "0.122 0.11485163149737287\n",
      "0.123 0.1157363374391791\n",
      "0.124 0.1166201591172491\n",
      "0.125 0.11750309741540454\n",
      "0.126 0.11838515321658394\n",
      "0.127 0.11926632740284304\n",
      "0.128 0.12014662085535621\n",
      "0.129 0.12102603445441684\n",
      "0.13 0.1219045690794387\n",
      "0.131 0.12278222560895646\n",
      "0.132 0.12365900492062676\n",
      "0.133 0.1245349078912289\n",
      "0.134 0.125409935396666\n",
      "0.135 0.12628408831196558\n",
      "0.136 0.1271573675112807\n",
      "0.137 0.1280297738678906\n",
      "0.138 0.12890130825420165\n",
      "0.139 0.12977197154174847\n",
      "0.14 0.13064176460119414\n",
      "0.14100000000000001 0.13151068830233215\n",
      "0.14200000000000002 0.13237874351408596\n",
      "0.14300000000000002 0.1332459311045111\n",
      "0.14400000000000002 0.134112251940795\n",
      "0.14500000000000002 0.1349777068892587\n",
      "0.14600000000000002 0.1358422968153573\n",
      "0.14700000000000002 0.1367060225836806\n",
      "0.14800000000000002 0.13756888505795462\n",
      "0.14900000000000002 0.13843088510104173\n",
      "0.15000000000000002 0.1392920235749422\n",
      "0.15100000000000002 0.14015230134079448\n",
      "0.15200000000000002 0.14101171925887657\n",
      "0.153 0.1418702781886062\n",
      "0.154 0.1427279789885425\n",
      "0.155 0.1435848225163865\n",
      "0.156 0.14444080962898154\n",
      "0.157 0.14529594118231492\n",
      "0.158 0.1461502180315183\n",
      "0.159 0.1470036410308685\n",
      "0.16 0.14785621103378865\n",
      "0.161 0.1487079288928489\n",
      "0.162 0.14955879545976702\n",
      "0.163 0.15040881158540975\n",
      "0.164 0.15125797811979325\n",
      "0.165 0.15210629591208413\n",
      "0.166 0.15295376581060038\n",
      "0.167 0.15380038866281176\n",
      "0.168 0.15464616531534126\n",
      "0.169 0.15549109661396565\n",
      "0.17 0.1563351834036163\n",
      "0.171 0.1571784265283801\n",
      "0.17200000000000001 0.1580208268315001\n",
      "0.173 0.15886238515537676\n",
      "0.174 0.1597031023415686\n",
      "0.175 0.16054297923079264\n",
      "0.176 0.16138201666292595\n",
      "0.177 0.16222021547700616\n",
      "0.178 0.16305757651123187\n",
      "0.179 0.1638941006029645\n",
      "0.18 0.164729788588728\n",
      "0.181 0.16556464130421045\n",
      "0.182 0.1663986595842647\n",
      "0.183 0.16723184426290905\n",
      "0.184 0.16806419617332824\n",
      "0.185 0.16889571614787435\n",
      "0.186 0.16972640501806735\n",
      "0.187 0.17055626361459608\n",
      "0.188 0.1713852927673194\n",
      "0.189 0.17221349330526636\n",
      "0.19 0.1730408660566377\n",
      "0.191 0.17386741184880616\n",
      "0.192 0.17469313150831767\n",
      "0.193 0.17551802586089182\n",
      "0.194 0.17634209573142312\n",
      "0.195 0.1771653419439816\n",
      "0.196 0.17798776532181348\n",
      "0.197 0.17880936668734204\n",
      "0.198 0.17963014686216894\n",
      "0.199 0.1804501066670744\n",
      "0.2 0.18126924692201818\n"
     ]
    }
   ],
   "source": [
    "for i in np.linspace(0.1,0.2,101):\n",
    "    print(str(i) + \" \" + str(lower_sum(i)))\n",
    "#0.173 0.15886238515537676"
   ]
  },
  {
   "cell_type": "code",
   "execution_count": 113,
   "id": "8801303f",
   "metadata": {},
   "outputs": [],
   "source": [
    "def upper_sum(mu):\n",
    "    return poisson(0, mu)"
   ]
  },
  {
   "cell_type": "code",
   "execution_count": 123,
   "id": "30681a65",
   "metadata": {
    "collapsed": true
   },
   "outputs": [
    {
     "name": "stdout",
     "output_type": "stream",
     "text": [
      "1.5 0.22313016014842982\n",
      "1.51 0.2209099779593782\n",
      "1.52 0.21871188695221475\n",
      "1.53 0.21653566731600707\n",
      "1.54 0.21438110142697794\n",
      "1.55 0.21224797382674304\n",
      "1.56 0.21013607120076472\n",
      "1.57 0.20804518235702046\n",
      "1.58 0.20597509820488344\n",
      "1.59 0.20392561173421342\n",
      "1.6 0.20189651799465538\n",
      "1.61 0.1998876140751445\n",
      "1.62 0.19789869908361465\n",
      "1.63 0.19592957412690937\n",
      "1.6400000000000001 0.19398004229089189\n",
      "1.65 0.19204990862075413\n",
      "1.66 0.19013898010152055\n",
      "1.67 0.1882470656387468\n",
      "1.68 0.18637397603940997\n",
      "1.69 0.18451952399298926\n",
      "1.7 0.18268352405273466\n",
      "1.71 0.1808657926171221\n",
      "1.72 0.17906614791149322\n",
      "1.73 0.17728440996987782\n",
      "1.74 0.17552040061699686\n",
      "1.75 0.17377394345044514\n",
      "1.76 0.17204486382305054\n",
      "1.77 0.17033298882540943\n",
      "1.78 0.1686381472685955\n",
      "1.79 0.1669601696670407\n",
      "1.8 0.16529888822158653\n",
      "1.81 0.16365413680270405\n",
      "1.82 0.16202575093388075\n",
      "1.83 0.16041356777517274\n",
      "1.84 0.15881742610692068\n",
      "1.85 0.1572371663136276\n",
      "1.8599999999999999 0.15567263036799733\n",
      "1.87 0.1541236618151314\n",
      "1.88 0.1525901057568839\n",
      "1.8900000000000001 0.15107180883637084\n",
      "1.9 0.14956861922263506\n",
      "1.9100000000000001 0.14808038659546244\n",
      "1.92 0.14660696213035015\n",
      "1.93 0.14514819848362373\n",
      "1.94 0.14370394977770293\n",
      "1.95 0.1422740715865136\n",
      "1.96 0.140858420921045\n",
      "1.97 0.13945685621505094\n",
      "1.98 0.13806923731089282\n",
      "1.99 0.13669542544552385\n",
      "2.0 0.1353352832366127\n"
     ]
    }
   ],
   "source": [
    "for i in np.linspace(1.5,2,51):\n",
    "    print(str(i) + \" \" + str(upper_sum(i)))\n",
    "#1.84 0.15881742610692068"
   ]
  },
  {
   "cell_type": "code",
   "execution_count": 50,
   "id": "63c3b7ec",
   "metadata": {},
   "outputs": [],
   "source": [
    "Al_C = h5py.File(\"temp_data/Al5_C.hdf5\", \"r\")"
   ]
  },
  {
   "cell_type": "code",
   "execution_count": 51,
   "id": "43bd1815",
   "metadata": {},
   "outputs": [],
   "source": [
    "amp_Al_CIn = Al_C['amp'][:]\n",
    "en_Al_CIn = Al_C['energy'][:]\n",
    "tof_Al_CIn = Al_C['tof'][:]\n",
    "norm_Al_CIn = Al_C['norm'][0]\n",
    "detn_Al_CIn = Al_C['detn'][:]"
   ]
  },
  {
   "cell_type": "code",
   "execution_count": 52,
   "id": "4c620b8d",
   "metadata": {},
   "outputs": [],
   "source": [
    "Al_noC = h5py.File(\"temp_data/Al5_noC.hdf5\", \"r\")"
   ]
  },
  {
   "cell_type": "code",
   "execution_count": 53,
   "id": "d7ac28a5",
   "metadata": {},
   "outputs": [],
   "source": [
    "amp_Al_noCIn = Al_noC['amp'][:]\n",
    "en_Al_noCIn = Al_noC['energy'][:]\n",
    "tof_Al_noCIn = Al_noC['tof'][:]\n",
    "norm_Al_noCIn = Al_noC['norm'][0]\n",
    "detn_Al_noCIn = Al_noC['detn'][:]"
   ]
  },
  {
   "cell_type": "code",
   "execution_count": 54,
   "id": "dad08306",
   "metadata": {},
   "outputs": [],
   "source": [
    "tof_Al_CIn_select = tof_Al_CIn[(tof_Al_CIn >= tof[left]) & (tof_Al_CIn <= tof[right])]\n",
    "detn_Al_CIn_select = detn_Al_CIn[(tof_Al_CIn >= tof[left]) & (tof_Al_CIn <= tof[right])]\n",
    "amp_Al_CIn_select = amp_Al_CIn[(tof_Al_CIn >= tof[left]) & (tof_Al_CIn <= tof[right])]"
   ]
  },
  {
   "cell_type": "code",
   "execution_count": 55,
   "id": "95442f64",
   "metadata": {},
   "outputs": [],
   "source": [
    "tof_Al_CIn_select_2 = select_tof_ptbc(tof_Al_CIn_select, detn_Al_CIn_select, amp_Al_CIn_select)"
   ]
  },
  {
   "cell_type": "code",
   "execution_count": 56,
   "id": "e029dcdf",
   "metadata": {},
   "outputs": [
    {
     "data": {
      "text/plain": [
       "array([70143.96276659])"
      ]
     },
     "execution_count": 56,
     "metadata": {},
     "output_type": "execute_result"
    }
   ],
   "source": [
    "tof_Al_CIn_select_2"
   ]
  },
  {
   "cell_type": "code",
   "execution_count": 57,
   "id": "3df05ac1",
   "metadata": {},
   "outputs": [],
   "source": [
    "tof_Al_noCIn_select = tof_Al_noCIn[(tof_Al_noCIn >= tof[left]) & (tof_Al_noCIn <= tof[right])]\n",
    "detn_Al_noCIn_select = detn_Al_noCIn[(tof_Al_noCIn >= tof[left]) & (tof_Al_noCIn <= tof[right])]\n",
    "amp_Al_noCIn_select = amp_Al_noCIn[(tof_Al_noCIn >= tof[left]) & (tof_Al_noCIn <= tof[right])]"
   ]
  },
  {
   "cell_type": "code",
   "execution_count": 58,
   "id": "77d54781",
   "metadata": {},
   "outputs": [],
   "source": [
    "tof_Al_noCIn_select_2 = select_tof_ptbc(tof_Al_noCIn_select, detn_Al_noCIn_select, amp_Al_noCIn_select)"
   ]
  },
  {
   "cell_type": "code",
   "execution_count": 59,
   "id": "15ea2a0c",
   "metadata": {},
   "outputs": [
    {
     "data": {
      "text/plain": [
       "array([], dtype=float64)"
      ]
     },
     "execution_count": 59,
     "metadata": {},
     "output_type": "execute_result"
    }
   ],
   "source": [
    "tof_Al_noCIn_select_2"
   ]
  },
  {
   "cell_type": "code",
   "execution_count": 60,
   "id": "c9eddca7",
   "metadata": {},
   "outputs": [
    {
     "data": {
      "text/plain": [
       "1.3550842338607104e+17"
      ]
     },
     "execution_count": 60,
     "metadata": {},
     "output_type": "execute_result"
    }
   ],
   "source": [
    "norm_Al_CIn"
   ]
  },
  {
   "cell_type": "code",
   "execution_count": 61,
   "id": "123dfa90",
   "metadata": {},
   "outputs": [
    {
     "data": {
      "text/plain": [
       "1.2420786057694413e+17"
      ]
     },
     "execution_count": 61,
     "metadata": {},
     "output_type": "execute_result"
    }
   ],
   "source": [
    "norm_Al_noCIn"
   ]
  },
  {
   "cell_type": "code",
   "execution_count": 62,
   "id": "03322d8c",
   "metadata": {},
   "outputs": [
    {
     "data": {
      "text/plain": [
       "7.324441799181853e-21"
      ]
     },
     "execution_count": 62,
     "metadata": {},
     "output_type": "execute_result"
    }
   ],
   "source": [
    "1 / norm_Al_CIn / 1007.5327578187571"
   ]
  },
  {
   "cell_type": "code",
   "execution_count": 124,
   "id": "dcab7e97",
   "metadata": {},
   "outputs": [
    {
     "data": {
      "text/plain": [
       "2.417065793730011e-20"
      ]
     },
     "execution_count": 124,
     "metadata": {},
     "output_type": "execute_result"
    }
   ],
   "source": [
    "3.3 / norm_Al_CIn / 1007.5327578187571"
   ]
  },
  {
   "cell_type": "code",
   "execution_count": 125,
   "id": "b77f7e63",
   "metadata": {},
   "outputs": [
    {
     "data": {
      "text/plain": [
       "1.2671284312584603e-21"
      ]
     },
     "execution_count": 125,
     "metadata": {},
     "output_type": "execute_result"
    }
   ],
   "source": [
    "0.173 / norm_Al_CIn / 1007.5327578187571"
   ]
  },
  {
   "cell_type": "code",
   "execution_count": 63,
   "id": "94c02b20",
   "metadata": {},
   "outputs": [],
   "source": [
    "ArIn = h5py.File(\"temp_data/Ar.hdf5\", \"r\")\n",
    "ArOut = h5py.File(\"temp_data/bottle.hdf5\", \"r\")\n",
    "amp_ArIn = ArIn['amp'][:]\n",
    "en_ArIn = ArIn['energy'][:]\n",
    "tof_ArIn = ArIn['tof'][:]\n",
    "norm_ArIn = ArIn['norm'][0]\n",
    "detn_ArIn = ArIn['detn'][:]\n",
    "amp_ArOut = ArOut['amp'][:]\n",
    "en_ArOut = ArOut['energy'][:]\n",
    "tof_ArOut = ArOut['tof'][:]\n",
    "norm_ArOut = ArOut['norm'][0]\n",
    "detn_ArOut = ArOut['detn'][:]"
   ]
  },
  {
   "cell_type": "code",
   "execution_count": 64,
   "id": "edd899a4",
   "metadata": {},
   "outputs": [],
   "source": [
    "tof_ArIn_select = select_tof_ptbc(tof_ArIn, detn_ArIn, amp_ArIn)\n",
    "tof_ArOut_select = select_tof_ptbc(tof_ArOut, detn_ArOut, amp_ArOut)"
   ]
  },
  {
   "cell_type": "code",
   "execution_count": 126,
   "id": "d6924de6",
   "metadata": {},
   "outputs": [],
   "source": [
    "bg_ArIn_low = 1.2671284312584603e-21 * norm_ArIn * 1e9\n",
    "bg_ArIn_mid = 7.324441799181853e-21 * norm_ArIn * 1e9\n",
    "bg_ArIn_high = 2.417065793730011e-20 * norm_ArIn * 1e9"
   ]
  },
  {
   "cell_type": "code",
   "execution_count": 127,
   "id": "42e2324e",
   "metadata": {},
   "outputs": [],
   "source": [
    "bg_ArOut_low = 1.2671284312584603e-21 * norm_ArOut * 1e9\n",
    "bg_ArOut_mid = 7.324441799181853e-21 * norm_ArOut * 1e9\n",
    "bg_ArOut_high = 2.417065793730011e-20 * norm_ArOut * 1e9"
   ]
  },
  {
   "cell_type": "code",
   "execution_count": 128,
   "id": "f4acd951",
   "metadata": {},
   "outputs": [],
   "source": [
    "bg_ArIn_low_100 = bg_ArIn_low * 10\n",
    "bg_ArIn_mid_100 = bg_ArIn_mid * 10\n",
    "bg_ArIn_high_100= bg_ArIn_high * 10\n",
    "bg_ArOut_low_100 = bg_ArOut_low * 10\n",
    "bg_ArOut_mid_100 = bg_ArOut_mid * 10\n",
    "bg_ArOut_high_100 = bg_ArOut_high * 10"
   ]
  },
  {
   "cell_type": "code",
   "execution_count": 129,
   "id": "62392d47",
   "metadata": {},
   "outputs": [],
   "source": [
    "bg_ArIn_low_arr_100 = np.random.uniform(1e-1, 1e9, int(bg_ArIn_low_100))\n",
    "bg_ArIn_mid_arr_100 = np.random.uniform(1e-1, 1e9, int(bg_ArIn_mid_100))\n",
    "bg_ArIn_high_arr_100 = np.random.uniform(1e-1, 1e9, int(bg_ArIn_high_100))"
   ]
  },
  {
   "cell_type": "code",
   "execution_count": 130,
   "id": "04805507",
   "metadata": {},
   "outputs": [],
   "source": [
    "bg_ArOut_low_arr_100 = np.random.uniform(1e-1, 1e9, int(bg_ArOut_low_100))\n",
    "bg_ArOut_mid_arr_100 = np.random.uniform(1e-1, 1e9, int(bg_ArOut_mid_100))\n",
    "bg_ArOut_high_arr_100 = np.random.uniform(1e-1, 1e9, int(bg_ArOut_high_100))"
   ]
  },
  {
   "cell_type": "code",
   "execution_count": 131,
   "id": "016faa9a",
   "metadata": {},
   "outputs": [],
   "source": [
    "norm_ArIn_low = norm_ArIn - bg_ArIn_low\n",
    "norm_ArIn_mid = norm_ArIn - bg_ArIn_mid\n",
    "norm_ArIn_high = norm_ArIn - bg_ArIn_high\n",
    "norm_ArOut_low = norm_ArOut - bg_ArOut_low\n",
    "norm_ArOut_mid = norm_ArOut - bg_ArOut_mid\n",
    "norm_ArOut_high = norm_ArOut - bg_ArOut_high"
   ]
  },
  {
   "cell_type": "code",
   "execution_count": 132,
   "id": "095c71d8",
   "metadata": {},
   "outputs": [
    {
     "name": "stderr",
     "output_type": "stream",
     "text": [
      "/Users/livingroom-pc/Documents/artie/MArEX_Analysis/utils.py:32: RuntimeWarning: invalid value encountered in sqrt\n",
      "  return m * (1 / np.sqrt(1 - x * x / c / c / tof / tof) - 1)\n"
     ]
    }
   ],
   "source": [
    "en_ArIn_select = tof_to_energy(tof_ArIn_select / 1e9, 182.3, 939.56542, 299792458) * 1e6\n",
    "en_ArOut_select = tof_to_energy(tof_ArOut_select / 1e9, 182.3, 939.56542, 299792458) * 1e6\n",
    "bg_ArIn_low_en_100 = tof_to_energy(bg_ArIn_low_arr_100 / 1e9, 182.3, 939.56542, 299792458) * 1e6\n",
    "bg_ArIn_mid_en_100 = tof_to_energy(bg_ArIn_mid_arr_100 / 1e9, 182.3, 939.56542, 299792458) * 1e6\n",
    "bg_ArIn_high_en_100 = tof_to_energy(bg_ArIn_high_arr_100 / 1e9, 182.3, 939.56542, 299792458) * 1e6\n",
    "bg_ArOut_low_en_100 = tof_to_energy(bg_ArOut_low_arr_100 / 1e9, 182.3, 939.56542, 299792458) * 1e6\n",
    "bg_ArOut_mid_en_100 = tof_to_energy(bg_ArOut_mid_arr_100 / 1e9, 182.3, 939.56542, 299792458) * 1e6\n",
    "bg_ArOut_high_en_100 = tof_to_energy(bg_ArOut_high_arr_100 / 1e9, 182.3, 939.56542, 299792458) * 1e6"
   ]
  },
  {
   "cell_type": "code",
   "execution_count": 133,
   "id": "c7e3591f",
   "metadata": {},
   "outputs": [],
   "source": [
    "logbins = np.logspace(-1, 9, 201)"
   ]
  },
  {
   "cell_type": "code",
   "execution_count": 135,
   "id": "721776c4",
   "metadata": {},
   "outputs": [
    {
     "data": {
      "image/png": "[encoded data removed]",
      "text/plain": [
       "<Figure size 432x288 with 1 Axes>"
      ]
     },
     "metadata": {
      "needs_background": "light"
     },
     "output_type": "display_data"
    }
   ],
   "source": [
    "hist_ArIn_low_bg_100, _, _ = plt.hist(bg_ArIn_low_en_100, bins = logbins, range = (0, 1e9))\n",
    "hist_ArIn_mid_bg_100, _, _ = plt.hist(bg_ArIn_mid_en_100, bins = logbins, range = (0, 1e9))\n",
    "hist_ArIn_high_bg_100, _, _ = plt.hist(bg_ArIn_high_en_100, bins = logbins, range = (0, 1e9))\n",
    "plt.xscale('log')"
   ]
  },
  {
   "cell_type": "code",
   "execution_count": 136,
   "id": "53e9534e",
   "metadata": {
    "scrolled": true
   },
   "outputs": [
    {
     "data": {
      "image/png": "[encoded data removed]",
      "text/plain": [
       "<Figure size 432x288 with 1 Axes>"
      ]
     },
     "metadata": {
      "needs_background": "light"
     },
     "output_type": "display_data"
    }
   ],
   "source": [
    "hist_ArIn, bins_ArIn, _ = plt.hist(en_ArIn_select, bins = logbins, range = (0, 1e9))\n",
    "#hist_ArIn_high_bg , _, _= plt.hist(bg_ArIn_high_en, bins = logbins, range = (0, 1e9))\n",
    "plt.xscale('log')\n",
    "plt.yscale('log')"
   ]
  },
  {
   "cell_type": "code",
   "execution_count": 137,
   "id": "101f7a9f",
   "metadata": {},
   "outputs": [],
   "source": [
    "err_ArIn = np.sqrt(hist_ArIn)\n",
    "#err_ArOut = np.sqrt(hist_ArOut)\n",
    "x_en = (bins_ArIn[1:] + bins_ArIn[:-1]) / 2"
   ]
  },
  {
   "cell_type": "code",
   "execution_count": 138,
   "id": "9f958658",
   "metadata": {},
   "outputs": [
    {
     "data": {
      "image/png": "[encoded data removed]",
      "text/plain": [
       "<Figure size 1440x360 with 1 Axes>"
      ]
     },
     "metadata": {
      "needs_background": "light"
     },
     "output_type": "display_data"
    }
   ],
   "source": [
    "plt.figure(figsize=(20,5))\n",
    "plt.errorbar(x_en, hist_ArIn, yerr=err_ArIn, fmt=\"p\")\n",
    "plt.errorbar(x_en, hist_ArIn_high_bg_100/10, fmt=\"p\")\n",
    "plt.errorbar(x_en, hist_ArIn_mid_bg_100/10, fmt=\"p\")\n",
    "plt.errorbar(x_en, hist_ArIn_low_bg_100/10, fmt=\"p\")\n",
    "plt.xscale('log')\n",
    "plt.yscale('log')\n",
    "plt.grid()"
   ]
  },
  {
   "cell_type": "code",
   "execution_count": 139,
   "id": "247eabac",
   "metadata": {},
   "outputs": [
    {
     "data": {
      "text/plain": [
       "1.347697291049461e-20"
      ]
     },
     "execution_count": 139,
     "metadata": {},
     "output_type": "execute_result"
    }
   ],
   "source": [
    "1.84 / norm_Al_CIn / 1007.5327578187571"
   ]
  },
  {
   "cell_type": "code",
   "execution_count": 140,
   "id": "9ae9e560",
   "metadata": {},
   "outputs": [],
   "source": [
    "bg_ArIn_high = 1.347697291049461e-20 * norm_ArIn * 1e9\n",
    "bg_ArOut_high = 1.347697291049461e-20 * norm_ArOut * 1e9\n",
    "bg_ArIn_high_100 = bg_ArIn_high * 10\n",
    "bg_ArOut_high_100 = bg_ArOut_high * 10"
   ]
  },
  {
   "cell_type": "code",
   "execution_count": 141,
   "id": "1075ad24",
   "metadata": {},
   "outputs": [],
   "source": [
    "bg_ArIn_high_arr_100 = np.random.uniform(1e-1, 1e9, int(bg_ArIn_high_100))\n",
    "bg_ArOut_high_arr_100 = np.random.uniform(1e-1, 1e9, int(bg_ArOut_high_100))\n",
    "norm_ArIn_high = norm_ArIn - bg_ArIn_high\n",
    "norm_ArOut_high = norm_ArOut - bg_ArOut_high"
   ]
  },
  {
   "cell_type": "code",
   "execution_count": 142,
   "id": "d93e9de1",
   "metadata": {},
   "outputs": [
    {
     "name": "stderr",
     "output_type": "stream",
     "text": [
      "/Users/livingroom-pc/Documents/artie/MArEX_Analysis/utils.py:32: RuntimeWarning: invalid value encountered in sqrt\n",
      "  return m * (1 / np.sqrt(1 - x * x / c / c / tof / tof) - 1)\n"
     ]
    }
   ],
   "source": [
    "en_ArIn_select = tof_to_energy(tof_ArIn_select / 1e9, 182.3, 939.56542, 299792458) * 1e6\n",
    "en_ArOut_select = tof_to_energy(tof_ArOut_select / 1e9, 182.3, 939.56542, 299792458) * 1e6\n",
    "bg_ArIn_high_en_100 = tof_to_energy(bg_ArIn_high_arr_100 / 1e9, 182.3, 939.56542, 299792458) * 1e6\n",
    "bg_ArOut_high_en_100 = tof_to_energy(bg_ArOut_high_arr_100 / 1e9, 182.3, 939.56542, 299792458) * 1e6"
   ]
  },
  {
   "cell_type": "code",
   "execution_count": 143,
   "id": "5680634a",
   "metadata": {},
   "outputs": [
    {
     "data": {
      "image/png": "[encoded data removed]",
      "text/plain": [
       "<Figure size 432x288 with 1 Axes>"
      ]
     },
     "metadata": {
      "needs_background": "light"
     },
     "output_type": "display_data"
    }
   ],
   "source": [
    "hist_ArIn_high_bg_100, _, _ = plt.hist(bg_ArIn_high_en_100, bins = logbins, range = (0, 1e9))\n",
    "plt.xscale('log')"
   ]
  },
  {
   "cell_type": "code",
   "execution_count": 144,
   "id": "8f629f38",
   "metadata": {},
   "outputs": [
    {
     "data": {
      "image/png": "[encoded data removed]",
      "text/plain": [
       "<Figure size 1440x360 with 1 Axes>"
      ]
     },
     "metadata": {
      "needs_background": "light"
     },
     "output_type": "display_data"
    }
   ],
   "source": [
    "plt.figure(figsize=(20,5))\n",
    "plt.errorbar(x_en, hist_ArIn, yerr=err_ArIn, fmt=\"p\")\n",
    "plt.errorbar(x_en, hist_ArIn_low_bg_100/10, fmt=\"p\")\n",
    "plt.xscale('log')\n",
    "plt.yscale('log')\n",
    "plt.grid()"
   ]
  },
  {
   "cell_type": "code",
   "execution_count": 145,
   "id": "dc1b4757",
   "metadata": {},
   "outputs": [],
   "source": [
    "left = search_asc(tof, 150000)\n",
    "right = search_asc(tof, 180000)"
   ]
  },
  {
   "cell_type": "code",
   "execution_count": 146,
   "id": "641b08cc",
   "metadata": {},
   "outputs": [],
   "source": [
    "cur_ts = ts[left]\n",
    "while(cur_ts > 0.0001):\n",
    "    left += 1\n",
    "    cur_ts = ts[left]"
   ]
  },
  {
   "cell_type": "code",
   "execution_count": 147,
   "id": "73cb5114",
   "metadata": {},
   "outputs": [],
   "source": [
    "cur_ts = ts[right]\n",
    "while(cur_ts > 0.0001):\n",
    "    right -= 1\n",
    "    cur_ts = ts[right]"
   ]
  },
  {
   "cell_type": "code",
   "execution_count": 148,
   "id": "819e6c81",
   "metadata": {},
   "outputs": [
    {
     "data": {
      "text/plain": [
       "445.4325822358951"
      ]
     },
     "execution_count": 148,
     "metadata": {},
     "output_type": "execute_result"
    }
   ],
   "source": [
    "tof[right] - tof[left]"
   ]
  },
  {
   "cell_type": "code",
   "execution_count": 149,
   "id": "206d1a95",
   "metadata": {},
   "outputs": [
    {
     "data": {
      "text/plain": [
       "[<matplotlib.lines.Line2D at 0x7fb759d1c5e0>]"
      ]
     },
     "execution_count": 149,
     "metadata": {},
     "output_type": "execute_result"
    },
    {
     "data": {
      "image/png": "[encoded data removed]",
      "text/plain": [
       "<Figure size 720x720 with 1 Axes>"
      ]
     },
     "metadata": {
      "needs_background": "light"
     },
     "output_type": "display_data"
    }
   ],
   "source": [
    "plt.figure(figsize=(10,10))\n",
    "plt.plot(tof[left:right], ts[left:right])"
   ]
  },
  {
   "cell_type": "code",
   "execution_count": 150,
   "id": "f1ec66d3",
   "metadata": {},
   "outputs": [],
   "source": [
    "tof_Al_CIn_select = tof_Al_CIn[(tof_Al_CIn >= tof[left]) & (tof_Al_CIn <= tof[right])]\n",
    "detn_Al_CIn_select = detn_Al_CIn[(tof_Al_CIn >= tof[left]) & (tof_Al_CIn <= tof[right])]\n",
    "amp_Al_CIn_select = amp_Al_CIn[(tof_Al_CIn >= tof[left]) & (tof_Al_CIn <= tof[right])]"
   ]
  },
  {
   "cell_type": "code",
   "execution_count": 151,
   "id": "304e8f00",
   "metadata": {},
   "outputs": [],
   "source": [
    "tof_Al_CIn_select_2 = select_tof_ptbc(tof_Al_CIn_select, detn_Al_CIn_select, amp_Al_CIn_select)"
   ]
  },
  {
   "cell_type": "code",
   "execution_count": 152,
   "id": "f1713865",
   "metadata": {},
   "outputs": [
    {
     "data": {
      "text/plain": [
       "array([171636.25312095, 171426.54360622])"
      ]
     },
     "execution_count": 152,
     "metadata": {},
     "output_type": "execute_result"
    }
   ],
   "source": [
    "tof_Al_CIn_select_2"
   ]
  },
  {
   "cell_type": "code",
   "execution_count": 153,
   "id": "63e321ef",
   "metadata": {},
   "outputs": [],
   "source": [
    "tof_Al_noCIn_select = tof_Al_noCIn[(tof_Al_noCIn >= tof[left]) & (tof_Al_noCIn <= tof[right])]\n",
    "detn_Al_noCIn_select = detn_Al_noCIn[(tof_Al_noCIn >= tof[left]) & (tof_Al_noCIn <= tof[right])]\n",
    "amp_Al_noCIn_select = amp_Al_noCIn[(tof_Al_noCIn >= tof[left]) & (tof_Al_noCIn <= tof[right])]"
   ]
  },
  {
   "cell_type": "code",
   "execution_count": 154,
   "id": "77084764",
   "metadata": {},
   "outputs": [],
   "source": [
    "tof_Al_noCIn_select_2 = select_tof_ptbc(tof_Al_noCIn_select, detn_Al_noCIn_select, amp_Al_noCIn_select)"
   ]
  },
  {
   "cell_type": "code",
   "execution_count": 155,
   "id": "8bbb12be",
   "metadata": {},
   "outputs": [
    {
     "data": {
      "text/plain": [
       "array([171449.54794284])"
      ]
     },
     "execution_count": 155,
     "metadata": {},
     "output_type": "execute_result"
    }
   ],
   "source": [
    "tof_Al_noCIn_select_2"
   ]
  },
  {
   "cell_type": "code",
   "execution_count": 175,
   "id": "0428a873",
   "metadata": {},
   "outputs": [],
   "source": [
    "left = search_asc(tof, 68000)\n",
    "right = search_asc(tof, 73000)"
   ]
  },
  {
   "cell_type": "code",
   "execution_count": 176,
   "id": "849dfea7",
   "metadata": {},
   "outputs": [
    {
     "data": {
      "text/plain": [
       "[<matplotlib.lines.Line2D at 0x7fb74cad9a60>]"
      ]
     },
     "execution_count": 176,
     "metadata": {},
     "output_type": "execute_result"
    },
    {
     "data": {
      "image/png": "[encoded data removed]",
      "text/plain": [
       "<Figure size 720x720 with 1 Axes>"
      ]
     },
     "metadata": {
      "needs_background": "light"
     },
     "output_type": "display_data"
    }
   ],
   "source": [
    "plt.figure(figsize=(10,10))\n",
    "plt.plot(tof[left:right], ts[left:right])"
   ]
  },
  {
   "cell_type": "code",
   "execution_count": 187,
   "id": "41d606a8",
   "metadata": {},
   "outputs": [],
   "source": [
    "cur_ts = ts[left]\n",
    "while(cur_ts > 0.001):\n",
    "    left += 1\n",
    "    cur_ts = ts[left]"
   ]
  },
  {
   "cell_type": "code",
   "execution_count": 188,
   "id": "c4a7ec84",
   "metadata": {},
   "outputs": [],
   "source": [
    "cur_ts = ts[right]\n",
    "while(cur_ts > 0.001):\n",
    "    right -= 1\n",
    "    cur_ts = ts[right]"
   ]
  },
  {
   "cell_type": "code",
   "execution_count": 189,
   "id": "ef2462dc",
   "metadata": {},
   "outputs": [
    {
     "data": {
      "text/plain": [
       "[<matplotlib.lines.Line2D at 0x7fb759ce2af0>]"
      ]
     },
     "execution_count": 189,
     "metadata": {},
     "output_type": "execute_result"
    },
    {
     "data": {
      "image/png": "[encoded data removed]",
      "text/plain": [
       "<Figure size 720x720 with 1 Axes>"
      ]
     },
     "metadata": {
      "needs_background": "light"
     },
     "output_type": "display_data"
    }
   ],
   "source": [
    "plt.figure(figsize=(10,10))\n",
    "plt.plot(tof[left:right], ts[left:right])"
   ]
  },
  {
   "cell_type": "code",
   "execution_count": 190,
   "id": "2954823e",
   "metadata": {},
   "outputs": [
    {
     "data": {
      "text/plain": [
       "2243.2472800676915"
      ]
     },
     "execution_count": 190,
     "metadata": {},
     "output_type": "execute_result"
    }
   ],
   "source": [
    "tof[right] - tof[left]"
   ]
  },
  {
   "cell_type": "code",
   "execution_count": 191,
   "id": "8da9966a",
   "metadata": {},
   "outputs": [],
   "source": [
    "tof_Al_CIn_select = tof_Al_CIn[(tof_Al_CIn >= tof[left]) & (tof_Al_CIn <= tof[right])]\n",
    "detn_Al_CIn_select = detn_Al_CIn[(tof_Al_CIn >= tof[left]) & (tof_Al_CIn <= tof[right])]\n",
    "amp_Al_CIn_select = amp_Al_CIn[(tof_Al_CIn >= tof[left]) & (tof_Al_CIn <= tof[right])]"
   ]
  },
  {
   "cell_type": "code",
   "execution_count": 192,
   "id": "29a8c8e0",
   "metadata": {},
   "outputs": [],
   "source": [
    "tof_Al_CIn_select_2 = select_tof_ptbc(tof_Al_CIn_select, detn_Al_CIn_select, amp_Al_CIn_select)"
   ]
  },
  {
   "cell_type": "code",
   "execution_count": 193,
   "id": "58b5904b",
   "metadata": {},
   "outputs": [
    {
     "data": {
      "text/plain": [
       "array([70143.96276659])"
      ]
     },
     "execution_count": 193,
     "metadata": {},
     "output_type": "execute_result"
    }
   ],
   "source": [
    "tof_Al_CIn_select_2"
   ]
  },
  {
   "cell_type": "code",
   "execution_count": 194,
   "id": "3ba092e4",
   "metadata": {},
   "outputs": [],
   "source": [
    "tof_Al_noCIn_select = tof_Al_noCIn[(tof_Al_noCIn >= tof[left]) & (tof_Al_noCIn <= tof[right])]\n",
    "detn_Al_noCIn_select = detn_Al_noCIn[(tof_Al_noCIn >= tof[left]) & (tof_Al_noCIn <= tof[right])]\n",
    "amp_Al_noCIn_select = amp_Al_noCIn[(tof_Al_noCIn >= tof[left]) & (tof_Al_noCIn <= tof[right])]"
   ]
  },
  {
   "cell_type": "code",
   "execution_count": 195,
   "id": "045068e0",
   "metadata": {},
   "outputs": [],
   "source": [
    "tof_Al_noCIn_select_2 = select_tof_ptbc(tof_Al_noCIn_select, detn_Al_noCIn_select, amp_Al_noCIn_select)"
   ]
  },
  {
   "cell_type": "code",
   "execution_count": 196,
   "id": "259273a6",
   "metadata": {},
   "outputs": [
    {
     "data": {
      "text/plain": [
       "array([], dtype=float64)"
      ]
     },
     "execution_count": 196,
     "metadata": {},
     "output_type": "execute_result"
    }
   ],
   "source": [
    "tof_Al_noCIn_select_2"
   ]
  },
  {
   "cell_type": "code",
   "execution_count": null,
   "id": "96686e55",
   "metadata": {},
   "outputs": [],
   "source": []
  }
 ],
 "metadata": {
  "kernelspec": {
   "display_name": "Python 3 (ipykernel)",
   "language": "python",
   "name": "python3"
  },
  "language_info": {
   "codemirror_mode": {
    "name": "ipython",
    "version": 3
   },
   "file_extension": ".py",
   "mimetype": "text/x-python",
   "name": "python",
   "nbconvert_exporter": "python",
   "pygments_lexer": "ipython3",
   "version": "3.9.12"
  }
 },
 "nbformat": 4,
 "nbformat_minor": 5
}
