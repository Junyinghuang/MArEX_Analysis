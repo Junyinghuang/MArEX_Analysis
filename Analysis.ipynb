{
 "cells": [
  {
   "cell_type": "code",
   "execution_count": 1,
   "id": "bf0c87e9",
   "metadata": {},
   "outputs": [],
   "source": [
    "import numpy as np\n",
    "import uproot\n",
    "from matplotlib import pyplot as plt\n",
    "import matplotlib as mpl\n",
    "import h5py"
   ]
  },
  {
   "cell_type": "code",
   "execution_count": 2,
   "id": "88cd6cc6",
   "metadata": {},
   "outputs": [],
   "source": [
    "from src.process_data import process_data"
   ]
  },
  {
   "cell_type": "code",
   "execution_count": null,
   "id": "dfc046d1",
   "metadata": {},
   "outputs": [],
   "source": [
    "process_data([i for i in range(117369, 117391)], \"PTBC\", \"temp_data/BiIn.hdf5\")"
   ]
  }
 ],
 "metadata": {
  "kernelspec": {
   "display_name": "Python 3 (ipykernel)",
   "language": "python",
   "name": "python3"
  },
  "language_info": {
   "codemirror_mode": {
    "name": "ipython",
    "version": 3
   },
   "file_extension": ".py",
   "mimetype": "text/x-python",
   "name": "python",
   "nbconvert_exporter": "python",
   "pygments_lexer": "ipython3",
   "version": "3.9.12"
  }
 },
 "nbformat": 4,
 "nbformat_minor": 5
}
