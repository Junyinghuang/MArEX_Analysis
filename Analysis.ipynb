{
 "cells": [
  {
   "cell_type": "code",
   "execution_count": 1,
   "id": "a076544e",
   "metadata": {},
   "outputs": [],
   "source": [
    "import numpy as np\n",
    "import uproot\n",
    "from matplotlib import pyplot as plt\n",
    "import matplotlib as mpl\n",
    "import h5py"
   ]
  },
  {
   "cell_type": "code",
   "execution_count": 2,
   "id": "58563fb9",
   "metadata": {},
   "outputs": [],
   "source": [
    "from src.process_data import process_data"
   ]
  },
  {
   "cell_type": "code",
   "execution_count": 3,
   "id": "baa4e2bd",
   "metadata": {},
   "outputs": [],
   "source": [
    "process_data([i for i in range(117369, 117391)], \"PTBC\", \"temp_data/BiIn.hdf5\")"
   ]
  },
  {
   "cell_type": "code",
   "execution_count": 4,
   "id": "03b0070b",
   "metadata": {},
   "outputs": [],
   "source": [
    "f = h5py.File(\"temp_data/BiIn.hdf5\", \"r\")"
   ]
  },
  {
   "cell_type": "code",
   "execution_count": 5,
   "id": "81858ab0",
   "metadata": {},
   "outputs": [
    {
     "data": {
      "text/plain": [
       "<KeysViewHDF5 ['amp', 'energy', 'norm']>"
      ]
     },
     "execution_count": 5,
     "metadata": {},
     "output_type": "execute_result"
    }
   ],
   "source": [
    "f.keys()"
   ]
  },
  {
   "cell_type": "code",
   "execution_count": 9,
   "id": "b7de6ad4",
   "metadata": {},
   "outputs": [
    {
     "data": {
      "text/plain": [
       "5616967"
      ]
     },
     "execution_count": 9,
     "metadata": {},
     "output_type": "execute_result"
    }
   ],
   "source": [
    "len(f['amp'][:])"
   ]
  },
  {
   "cell_type": "code",
   "execution_count": 10,
   "id": "15afb026",
   "metadata": {},
   "outputs": [
    {
     "data": {
      "text/plain": [
       "1.2507040384968294e+17"
      ]
     },
     "execution_count": 10,
     "metadata": {},
     "output_type": "execute_result"
    }
   ],
   "source": [
    "f['norm'][0]"
   ]
  },
  {
   "cell_type": "code",
   "execution_count": null,
   "id": "b2a42afd",
   "metadata": {},
   "outputs": [],
   "source": []
  }
 ],
 "metadata": {
  "kernelspec": {
   "display_name": "Python 3 (ipykernel)",
   "language": "python",
   "name": "python3"
  },
  "language_info": {
   "codemirror_mode": {
    "name": "ipython",
    "version": 3
   },
   "file_extension": ".py",
   "mimetype": "text/x-python",
   "name": "python",
   "nbconvert_exporter": "python",
   "pygments_lexer": "ipython3",
   "version": "3.9.12"
  }
 },
 "nbformat": 4,
 "nbformat_minor": 5
}
